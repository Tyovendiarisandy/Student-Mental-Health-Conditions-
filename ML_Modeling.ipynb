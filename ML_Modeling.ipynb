{
  "nbformat": 4,
  "nbformat_minor": 0,
  "metadata": {
    "colab": {
      "provenance": [],
      "collapsed_sections": [
        "E2Rg-1MKd-VG",
        "rVfPhoOS6UTC"
      ],
      "toc_visible": true
    },
    "kernelspec": {
      "name": "python3",
      "display_name": "Python 3"
    },
    "language_info": {
      "name": "python"
    }
  },
  "cells": [
    {
      "cell_type": "markdown",
      "metadata": {
        "id": "CWtw3E-Gdgs5"
      },
      "source": [
        "##**1. Import Library**"
      ]
    },
    {
      "cell_type": "code",
      "source": [
        "# install category encoders\n",
        "!pip install category_encoders"
      ],
      "metadata": {
        "colab": {
          "base_uri": "https://localhost:8080/"
        },
        "id": "2ofS6jP2Gk8r",
        "outputId": "ae1ee6a6-75b2-4528-c36b-c8ae70ed1473"
      },
      "execution_count": 1,
      "outputs": [
        {
          "output_type": "stream",
          "name": "stdout",
          "text": [
            "Looking in indexes: https://pypi.org/simple, https://us-python.pkg.dev/colab-wheels/public/simple/\n",
            "Collecting category_encoders\n",
            "  Downloading category_encoders-2.6.1-py2.py3-none-any.whl (81 kB)\n",
            "\u001b[?25l     \u001b[90m━━━━━━━━━━━━━━━━━━━━━━━━━━━━━━━━━━━━━━━━\u001b[0m \u001b[32m0.0/81.9 kB\u001b[0m \u001b[31m?\u001b[0m eta \u001b[36m-:--:--\u001b[0m\r\u001b[2K     \u001b[90m━━━━━━━━━━━━━━━━━━━━━━━━━━━━━━━━━━━━━━━━\u001b[0m \u001b[32m81.9/81.9 kB\u001b[0m \u001b[31m3.9 MB/s\u001b[0m eta \u001b[36m0:00:00\u001b[0m\n",
            "\u001b[?25hRequirement already satisfied: numpy>=1.14.0 in /usr/local/lib/python3.10/dist-packages (from category_encoders) (1.22.4)\n",
            "Requirement already satisfied: scikit-learn>=0.20.0 in /usr/local/lib/python3.10/dist-packages (from category_encoders) (1.2.2)\n",
            "Requirement already satisfied: scipy>=1.0.0 in /usr/local/lib/python3.10/dist-packages (from category_encoders) (1.10.1)\n",
            "Requirement already satisfied: statsmodels>=0.9.0 in /usr/local/lib/python3.10/dist-packages (from category_encoders) (0.13.5)\n",
            "Requirement already satisfied: pandas>=1.0.5 in /usr/local/lib/python3.10/dist-packages (from category_encoders) (1.5.3)\n",
            "Requirement already satisfied: patsy>=0.5.1 in /usr/local/lib/python3.10/dist-packages (from category_encoders) (0.5.3)\n",
            "Requirement already satisfied: python-dateutil>=2.8.1 in /usr/local/lib/python3.10/dist-packages (from pandas>=1.0.5->category_encoders) (2.8.2)\n",
            "Requirement already satisfied: pytz>=2020.1 in /usr/local/lib/python3.10/dist-packages (from pandas>=1.0.5->category_encoders) (2022.7.1)\n",
            "Requirement already satisfied: six in /usr/local/lib/python3.10/dist-packages (from patsy>=0.5.1->category_encoders) (1.16.0)\n",
            "Requirement already satisfied: joblib>=1.1.1 in /usr/local/lib/python3.10/dist-packages (from scikit-learn>=0.20.0->category_encoders) (1.2.0)\n",
            "Requirement already satisfied: threadpoolctl>=2.0.0 in /usr/local/lib/python3.10/dist-packages (from scikit-learn>=0.20.0->category_encoders) (3.1.0)\n",
            "Requirement already satisfied: packaging>=21.3 in /usr/local/lib/python3.10/dist-packages (from statsmodels>=0.9.0->category_encoders) (23.1)\n",
            "Installing collected packages: category_encoders\n",
            "Successfully installed category_encoders-2.6.1\n"
          ]
        }
      ]
    },
    {
      "cell_type": "code",
      "execution_count": 2,
      "metadata": {
        "id": "_3AEWl9lZt_x"
      },
      "outputs": [],
      "source": [
        "# Common library used \n",
        "import numpy as np\n",
        "import pandas as pd\n",
        "import matplotlib.pyplot as plt\n",
        "import seaborn as sns\n",
        "import warnings\n",
        "warnings.filterwarnings('ignore')\n",
        "\n",
        "# Encoder\n",
        "import category_encoders as ce\n",
        "from category_encoders import TargetEncoder\n",
        "from sklearn.preprocessing import OrdinalEncoder\n",
        "\n",
        "# Imbalanced Dataset\n",
        "from imblearn.pipeline import Pipeline\n",
        "from imblearn.pipeline import make_pipeline\n",
        "from sklearn.base import BaseEstimator, TransformerMixin\n",
        "from imblearn.over_sampling import SMOTENC, SMOTE\n",
        "\n",
        "#Preprocessing ML\n",
        "from sklearn.impute import KNNImputer, SimpleImputer\n",
        "from sklearn import set_config\n",
        "from sklearn.compose import ColumnTransformer\n",
        "from sklearn.preprocessing import RobustScaler,OneHotEncoder,StandardScaler,FunctionTransformer,LabelEncoder\n",
        "from sklearn.model_selection import GridSearchCV,RandomizedSearchCV,train_test_split\n",
        "from sklearn.model_selection import cross_validate,cross_val_predict,cross_val_score,ShuffleSplit,StratifiedKFold,RepeatedStratifiedKFold\n",
        "from sklearn.feature_selection import RFE, SelectPercentile\n",
        "\n",
        "# ML algorithms\n",
        "from sklearn.linear_model import LogisticRegression\n",
        "from sklearn.neighbors import KNeighborsClassifier\n",
        "from sklearn.tree import DecisionTreeClassifier\n",
        "from sklearn.ensemble import VotingClassifier,RandomForestClassifier,GradientBoostingClassifier,AdaBoostClassifier\n",
        "from xgboost import XGBClassifier\n",
        "from sklearn.svm import SVC\n",
        "\n",
        "#metrics evaluation\n",
        "from sklearn.metrics import f1_score, accuracy_score, recall_score, precision_score \n",
        "from sklearn.metrics import classification_report, confusion_matrix, roc_auc_score, roc_curve"
      ]
    },
    {
      "cell_type": "code",
      "execution_count": null,
      "metadata": {
        "id": "OKH1Cf5IaRKH",
        "colab": {
          "base_uri": "https://localhost:8080/"
        },
        "outputId": "d5d09d47-9ad2-411a-fc49-01ccdc4632ea"
      },
      "outputs": [
        {
          "output_type": "stream",
          "name": "stdout",
          "text": [
            "Mounted at /content/drive\n"
          ]
        }
      ],
      "source": [
        "# Mount Google Drive\n",
        "from google.colab import drive\n",
        "drive.mount('/content/drive')"
      ]
    },
    {
      "cell_type": "markdown",
      "metadata": {
        "id": "E2Rg-1MKd-VG"
      },
      "source": [
        "##**2. Load Dataset**"
      ]
    },
    {
      "cell_type": "code",
      "execution_count": 8,
      "metadata": {
        "colab": {
          "base_uri": "https://localhost:8080/",
          "height": 0
        },
        "id": "Gobw-YKlaWzk",
        "outputId": "488eb1df-4427-46a2-b366-d8c431ffbc91"
      },
      "outputs": [
        {
          "output_type": "execute_result",
          "data": {
            "text/plain": [
              "    gender  age         study_programs study_years         cgpa  \\\n",
              "0   female   18            engineering      year_1  3.00 - 3.49   \n",
              "1     male   21              education      year_2  3.00 - 3.49   \n",
              "2     male   19  information_tecnology      year_1  3.00 - 3.49   \n",
              "3   female   22                    law      year_3  3.00 - 3.49   \n",
              "4     male   23            mathematics      year_4  3.00 - 3.49   \n",
              "..     ...  ...                    ...         ...          ...   \n",
              "95  female   21       computer_science      year_1  3.50 - 4.00   \n",
              "96    male   18            engineering      year_2  3.00 - 3.49   \n",
              "97  female   19                nursing      year_3  3.50 - 4.00   \n",
              "98  female   23              education      year_4  3.50 - 4.00   \n",
              "99    male   20     biomedical_science      year_2  3.00 - 3.49   \n",
              "\n",
              "   marital_status depression anxiety panic_attack seeking_treatment  \\\n",
              "0              no        yes      no          yes                no   \n",
              "1              no         no     yes           no                no   \n",
              "2              no        yes     yes          yes                no   \n",
              "3             yes        yes      no           no                no   \n",
              "4              no         no      no           no                no   \n",
              "..            ...        ...     ...          ...               ...   \n",
              "95             no         no     yes           no                no   \n",
              "96             no        yes     yes           no                no   \n",
              "97            yes        yes      no          yes                no   \n",
              "98             no         no      no           no                no   \n",
              "99             no         no      no           no                no   \n",
              "\n",
              "   mental_health_issues mental_health_category  \n",
              "0                   yes               moderate  \n",
              "1                   yes                   mild  \n",
              "2                   yes                 severe  \n",
              "3                   yes                   mild  \n",
              "4                    no                 normal  \n",
              "..                  ...                    ...  \n",
              "95                  yes                   mild  \n",
              "96                  yes               moderate  \n",
              "97                  yes               moderate  \n",
              "98                   no                 normal  \n",
              "99                   no                 normal  \n",
              "\n",
              "[100 rows x 12 columns]"
            ],
            "text/html": [
              "\n",
              "  <div id=\"df-5bb1f243-9f14-44a5-a56b-e1be4c4d237c\">\n",
              "    <div class=\"colab-df-container\">\n",
              "      <div>\n",
              "<style scoped>\n",
              "    .dataframe tbody tr th:only-of-type {\n",
              "        vertical-align: middle;\n",
              "    }\n",
              "\n",
              "    .dataframe tbody tr th {\n",
              "        vertical-align: top;\n",
              "    }\n",
              "\n",
              "    .dataframe thead th {\n",
              "        text-align: right;\n",
              "    }\n",
              "</style>\n",
              "<table border=\"1\" class=\"dataframe\">\n",
              "  <thead>\n",
              "    <tr style=\"text-align: right;\">\n",
              "      <th></th>\n",
              "      <th>gender</th>\n",
              "      <th>age</th>\n",
              "      <th>study_programs</th>\n",
              "      <th>study_years</th>\n",
              "      <th>cgpa</th>\n",
              "      <th>marital_status</th>\n",
              "      <th>depression</th>\n",
              "      <th>anxiety</th>\n",
              "      <th>panic_attack</th>\n",
              "      <th>seeking_treatment</th>\n",
              "      <th>mental_health_issues</th>\n",
              "      <th>mental_health_category</th>\n",
              "    </tr>\n",
              "  </thead>\n",
              "  <tbody>\n",
              "    <tr>\n",
              "      <th>0</th>\n",
              "      <td>female</td>\n",
              "      <td>18</td>\n",
              "      <td>engineering</td>\n",
              "      <td>year_1</td>\n",
              "      <td>3.00 - 3.49</td>\n",
              "      <td>no</td>\n",
              "      <td>yes</td>\n",
              "      <td>no</td>\n",
              "      <td>yes</td>\n",
              "      <td>no</td>\n",
              "      <td>yes</td>\n",
              "      <td>moderate</td>\n",
              "    </tr>\n",
              "    <tr>\n",
              "      <th>1</th>\n",
              "      <td>male</td>\n",
              "      <td>21</td>\n",
              "      <td>education</td>\n",
              "      <td>year_2</td>\n",
              "      <td>3.00 - 3.49</td>\n",
              "      <td>no</td>\n",
              "      <td>no</td>\n",
              "      <td>yes</td>\n",
              "      <td>no</td>\n",
              "      <td>no</td>\n",
              "      <td>yes</td>\n",
              "      <td>mild</td>\n",
              "    </tr>\n",
              "    <tr>\n",
              "      <th>2</th>\n",
              "      <td>male</td>\n",
              "      <td>19</td>\n",
              "      <td>information_tecnology</td>\n",
              "      <td>year_1</td>\n",
              "      <td>3.00 - 3.49</td>\n",
              "      <td>no</td>\n",
              "      <td>yes</td>\n",
              "      <td>yes</td>\n",
              "      <td>yes</td>\n",
              "      <td>no</td>\n",
              "      <td>yes</td>\n",
              "      <td>severe</td>\n",
              "    </tr>\n",
              "    <tr>\n",
              "      <th>3</th>\n",
              "      <td>female</td>\n",
              "      <td>22</td>\n",
              "      <td>law</td>\n",
              "      <td>year_3</td>\n",
              "      <td>3.00 - 3.49</td>\n",
              "      <td>yes</td>\n",
              "      <td>yes</td>\n",
              "      <td>no</td>\n",
              "      <td>no</td>\n",
              "      <td>no</td>\n",
              "      <td>yes</td>\n",
              "      <td>mild</td>\n",
              "    </tr>\n",
              "    <tr>\n",
              "      <th>4</th>\n",
              "      <td>male</td>\n",
              "      <td>23</td>\n",
              "      <td>mathematics</td>\n",
              "      <td>year_4</td>\n",
              "      <td>3.00 - 3.49</td>\n",
              "      <td>no</td>\n",
              "      <td>no</td>\n",
              "      <td>no</td>\n",
              "      <td>no</td>\n",
              "      <td>no</td>\n",
              "      <td>no</td>\n",
              "      <td>normal</td>\n",
              "    </tr>\n",
              "    <tr>\n",
              "      <th>...</th>\n",
              "      <td>...</td>\n",
              "      <td>...</td>\n",
              "      <td>...</td>\n",
              "      <td>...</td>\n",
              "      <td>...</td>\n",
              "      <td>...</td>\n",
              "      <td>...</td>\n",
              "      <td>...</td>\n",
              "      <td>...</td>\n",
              "      <td>...</td>\n",
              "      <td>...</td>\n",
              "      <td>...</td>\n",
              "    </tr>\n",
              "    <tr>\n",
              "      <th>95</th>\n",
              "      <td>female</td>\n",
              "      <td>21</td>\n",
              "      <td>computer_science</td>\n",
              "      <td>year_1</td>\n",
              "      <td>3.50 - 4.00</td>\n",
              "      <td>no</td>\n",
              "      <td>no</td>\n",
              "      <td>yes</td>\n",
              "      <td>no</td>\n",
              "      <td>no</td>\n",
              "      <td>yes</td>\n",
              "      <td>mild</td>\n",
              "    </tr>\n",
              "    <tr>\n",
              "      <th>96</th>\n",
              "      <td>male</td>\n",
              "      <td>18</td>\n",
              "      <td>engineering</td>\n",
              "      <td>year_2</td>\n",
              "      <td>3.00 - 3.49</td>\n",
              "      <td>no</td>\n",
              "      <td>yes</td>\n",
              "      <td>yes</td>\n",
              "      <td>no</td>\n",
              "      <td>no</td>\n",
              "      <td>yes</td>\n",
              "      <td>moderate</td>\n",
              "    </tr>\n",
              "    <tr>\n",
              "      <th>97</th>\n",
              "      <td>female</td>\n",
              "      <td>19</td>\n",
              "      <td>nursing</td>\n",
              "      <td>year_3</td>\n",
              "      <td>3.50 - 4.00</td>\n",
              "      <td>yes</td>\n",
              "      <td>yes</td>\n",
              "      <td>no</td>\n",
              "      <td>yes</td>\n",
              "      <td>no</td>\n",
              "      <td>yes</td>\n",
              "      <td>moderate</td>\n",
              "    </tr>\n",
              "    <tr>\n",
              "      <th>98</th>\n",
              "      <td>female</td>\n",
              "      <td>23</td>\n",
              "      <td>education</td>\n",
              "      <td>year_4</td>\n",
              "      <td>3.50 - 4.00</td>\n",
              "      <td>no</td>\n",
              "      <td>no</td>\n",
              "      <td>no</td>\n",
              "      <td>no</td>\n",
              "      <td>no</td>\n",
              "      <td>no</td>\n",
              "      <td>normal</td>\n",
              "    </tr>\n",
              "    <tr>\n",
              "      <th>99</th>\n",
              "      <td>male</td>\n",
              "      <td>20</td>\n",
              "      <td>biomedical_science</td>\n",
              "      <td>year_2</td>\n",
              "      <td>3.00 - 3.49</td>\n",
              "      <td>no</td>\n",
              "      <td>no</td>\n",
              "      <td>no</td>\n",
              "      <td>no</td>\n",
              "      <td>no</td>\n",
              "      <td>no</td>\n",
              "      <td>normal</td>\n",
              "    </tr>\n",
              "  </tbody>\n",
              "</table>\n",
              "<p>100 rows × 12 columns</p>\n",
              "</div>\n",
              "      <button class=\"colab-df-convert\" onclick=\"convertToInteractive('df-5bb1f243-9f14-44a5-a56b-e1be4c4d237c')\"\n",
              "              title=\"Convert this dataframe to an interactive table.\"\n",
              "              style=\"display:none;\">\n",
              "        \n",
              "  <svg xmlns=\"http://www.w3.org/2000/svg\" height=\"24px\"viewBox=\"0 0 24 24\"\n",
              "       width=\"24px\">\n",
              "    <path d=\"M0 0h24v24H0V0z\" fill=\"none\"/>\n",
              "    <path d=\"M18.56 5.44l.94 2.06.94-2.06 2.06-.94-2.06-.94-.94-2.06-.94 2.06-2.06.94zm-11 1L8.5 8.5l.94-2.06 2.06-.94-2.06-.94L8.5 2.5l-.94 2.06-2.06.94zm10 10l.94 2.06.94-2.06 2.06-.94-2.06-.94-.94-2.06-.94 2.06-2.06.94z\"/><path d=\"M17.41 7.96l-1.37-1.37c-.4-.4-.92-.59-1.43-.59-.52 0-1.04.2-1.43.59L10.3 9.45l-7.72 7.72c-.78.78-.78 2.05 0 2.83L4 21.41c.39.39.9.59 1.41.59.51 0 1.02-.2 1.41-.59l7.78-7.78 2.81-2.81c.8-.78.8-2.07 0-2.86zM5.41 20L4 18.59l7.72-7.72 1.47 1.35L5.41 20z\"/>\n",
              "  </svg>\n",
              "      </button>\n",
              "      \n",
              "  <style>\n",
              "    .colab-df-container {\n",
              "      display:flex;\n",
              "      flex-wrap:wrap;\n",
              "      gap: 12px;\n",
              "    }\n",
              "\n",
              "    .colab-df-convert {\n",
              "      background-color: #E8F0FE;\n",
              "      border: none;\n",
              "      border-radius: 50%;\n",
              "      cursor: pointer;\n",
              "      display: none;\n",
              "      fill: #1967D2;\n",
              "      height: 32px;\n",
              "      padding: 0 0 0 0;\n",
              "      width: 32px;\n",
              "    }\n",
              "\n",
              "    .colab-df-convert:hover {\n",
              "      background-color: #E2EBFA;\n",
              "      box-shadow: 0px 1px 2px rgba(60, 64, 67, 0.3), 0px 1px 3px 1px rgba(60, 64, 67, 0.15);\n",
              "      fill: #174EA6;\n",
              "    }\n",
              "\n",
              "    [theme=dark] .colab-df-convert {\n",
              "      background-color: #3B4455;\n",
              "      fill: #D2E3FC;\n",
              "    }\n",
              "\n",
              "    [theme=dark] .colab-df-convert:hover {\n",
              "      background-color: #434B5C;\n",
              "      box-shadow: 0px 1px 3px 1px rgba(0, 0, 0, 0.15);\n",
              "      filter: drop-shadow(0px 1px 2px rgba(0, 0, 0, 0.3));\n",
              "      fill: #FFFFFF;\n",
              "    }\n",
              "  </style>\n",
              "\n",
              "      <script>\n",
              "        const buttonEl =\n",
              "          document.querySelector('#df-5bb1f243-9f14-44a5-a56b-e1be4c4d237c button.colab-df-convert');\n",
              "        buttonEl.style.display =\n",
              "          google.colab.kernel.accessAllowed ? 'block' : 'none';\n",
              "\n",
              "        async function convertToInteractive(key) {\n",
              "          const element = document.querySelector('#df-5bb1f243-9f14-44a5-a56b-e1be4c4d237c');\n",
              "          const dataTable =\n",
              "            await google.colab.kernel.invokeFunction('convertToInteractive',\n",
              "                                                     [key], {});\n",
              "          if (!dataTable) return;\n",
              "\n",
              "          const docLinkHtml = 'Like what you see? Visit the ' +\n",
              "            '<a target=\"_blank\" href=https://colab.research.google.com/notebooks/data_table.ipynb>data table notebook</a>'\n",
              "            + ' to learn more about interactive tables.';\n",
              "          element.innerHTML = '';\n",
              "          dataTable['output_type'] = 'display_data';\n",
              "          await google.colab.output.renderOutput(dataTable, element);\n",
              "          const docLink = document.createElement('div');\n",
              "          docLink.innerHTML = docLinkHtml;\n",
              "          element.appendChild(docLink);\n",
              "        }\n",
              "      </script>\n",
              "    </div>\n",
              "  </div>\n",
              "  "
            ]
          },
          "metadata": {},
          "execution_count": 8
        }
      ],
      "source": [
        "# load dataset from google drive storage\n",
        "df = pd.read_csv('/content/drive/MyDrive/4.Data Science Course/Personal Project/Student Mental Health/clean_dataset.csv')\n",
        "df"
      ]
    },
    {
      "cell_type": "code",
      "source": [
        "# check missing values \n",
        "df.isna().sum()"
      ],
      "metadata": {
        "colab": {
          "base_uri": "https://localhost:8080/"
        },
        "id": "YXlFuAPrrm6p",
        "outputId": "594fae51-269c-433f-b836-fd0b7d6fbe70"
      },
      "execution_count": 9,
      "outputs": [
        {
          "output_type": "execute_result",
          "data": {
            "text/plain": [
              "gender                    0\n",
              "age                       0\n",
              "study_programs            0\n",
              "study_years               0\n",
              "cgpa                      0\n",
              "marital_status            0\n",
              "depression                0\n",
              "anxiety                   0\n",
              "panic_attack              0\n",
              "seeking_treatment         0\n",
              "mental_health_issues      0\n",
              "mental_health_category    0\n",
              "dtype: int64"
            ]
          },
          "metadata": {},
          "execution_count": 9
        }
      ]
    },
    {
      "cell_type": "code",
      "source": [
        "# check duplicated values\n",
        "df.duplicated().sum()"
      ],
      "metadata": {
        "colab": {
          "base_uri": "https://localhost:8080/"
        },
        "id": "r5mEJ_AEqCCm",
        "outputId": "367ed25f-dcfb-4901-f290-7a20ae92d419"
      },
      "execution_count": 10,
      "outputs": [
        {
          "output_type": "execute_result",
          "data": {
            "text/plain": [
              "1"
            ]
          },
          "metadata": {},
          "execution_count": 10
        }
      ]
    },
    {
      "cell_type": "code",
      "source": [
        "# drop duplicated values\n",
        "df = df.drop_duplicates()"
      ],
      "metadata": {
        "id": "IR49E4IPqJQC"
      },
      "execution_count": 11,
      "outputs": []
    },
    {
      "cell_type": "code",
      "source": [
        "# check again duplicated values\n",
        "df.duplicated().sum()"
      ],
      "metadata": {
        "colab": {
          "base_uri": "https://localhost:8080/"
        },
        "id": "LhLvxPC7r2Ur",
        "outputId": "8e28df56-ede7-4e65-edec-f40cffb21f05"
      },
      "execution_count": 12,
      "outputs": [
        {
          "output_type": "execute_result",
          "data": {
            "text/plain": [
              "0"
            ]
          },
          "metadata": {},
          "execution_count": 12
        }
      ]
    },
    {
      "cell_type": "markdown",
      "source": [
        "All it's clear!"
      ],
      "metadata": {
        "id": "zb8SM71Fr4Lw"
      }
    },
    {
      "cell_type": "markdown",
      "source": [
        "##**3. Feature Engineering**"
      ],
      "metadata": {
        "id": "rVfPhoOS6UTC"
      }
    },
    {
      "cell_type": "markdown",
      "source": [
        "###**a. Data Formatting**"
      ],
      "metadata": {
        "id": "5q8R2ko9uCk-"
      }
    },
    {
      "cell_type": "code",
      "source": [
        "# replace values in age columns\n",
        "df['age'] = df['age'].replace([18, 21, 19, 22, 23, 20, 24], \n",
        "                              ['18_thn', '21_thn', '19_thn', \n",
        "                               '22_thn', '23_thn', '20_thn', '24_thn'])"
      ],
      "metadata": {
        "id": "KDV3OYheuGF8"
      },
      "execution_count": 124,
      "outputs": []
    },
    {
      "cell_type": "markdown",
      "source": [
        "###**b. Data Encoding**"
      ],
      "metadata": {
        "id": "1e_-weljFxdA"
      }
    },
    {
      "cell_type": "code",
      "source": [
        "# copy previous dataframe\n",
        "df_fe = df.copy()\n",
        "df_fe"
      ],
      "metadata": {
        "colab": {
          "base_uri": "https://localhost:8080/",
          "height": 0
        },
        "id": "XyIJW8_Jp7lg",
        "outputId": "aba62e64-a2cf-46ff-8943-0bcac3c547c6"
      },
      "execution_count": 125,
      "outputs": [
        {
          "output_type": "execute_result",
          "data": {
            "text/plain": [
              "    gender     age         study_programs study_years         cgpa  \\\n",
              "0   female  18_thn            engineering      year_1  3.00 - 3.49   \n",
              "1     male  21_thn              education      year_2  3.00 - 3.49   \n",
              "2     male  19_thn  information_tecnology      year_1  3.00 - 3.49   \n",
              "3   female  22_thn                    law      year_3  3.00 - 3.49   \n",
              "4     male  23_thn            mathematics      year_4  3.00 - 3.49   \n",
              "..     ...     ...                    ...         ...          ...   \n",
              "95  female  21_thn       computer_science      year_1  3.50 - 4.00   \n",
              "96    male  18_thn            engineering      year_2  3.00 - 3.49   \n",
              "97  female  19_thn                nursing      year_3  3.50 - 4.00   \n",
              "98  female  23_thn              education      year_4  3.50 - 4.00   \n",
              "99    male  20_thn     biomedical_science      year_2  3.00 - 3.49   \n",
              "\n",
              "   marital_status depression anxiety panic_attack seeking_treatment  \\\n",
              "0              no        yes      no          yes                no   \n",
              "1              no         no     yes           no                no   \n",
              "2              no        yes     yes          yes                no   \n",
              "3             yes        yes      no           no                no   \n",
              "4              no         no      no           no                no   \n",
              "..            ...        ...     ...          ...               ...   \n",
              "95             no         no     yes           no                no   \n",
              "96             no        yes     yes           no                no   \n",
              "97            yes        yes      no          yes                no   \n",
              "98             no         no      no           no                no   \n",
              "99             no         no      no           no                no   \n",
              "\n",
              "   mental_health_issues mental_health_category  \n",
              "0                   yes               moderate  \n",
              "1                   yes                   mild  \n",
              "2                   yes                 severe  \n",
              "3                   yes                   mild  \n",
              "4                    no                 normal  \n",
              "..                  ...                    ...  \n",
              "95                  yes                   mild  \n",
              "96                  yes               moderate  \n",
              "97                  yes               moderate  \n",
              "98                   no                 normal  \n",
              "99                   no                 normal  \n",
              "\n",
              "[99 rows x 12 columns]"
            ],
            "text/html": [
              "\n",
              "  <div id=\"df-3e82ee84-80c8-4d19-8213-6b3ee030986f\">\n",
              "    <div class=\"colab-df-container\">\n",
              "      <div>\n",
              "<style scoped>\n",
              "    .dataframe tbody tr th:only-of-type {\n",
              "        vertical-align: middle;\n",
              "    }\n",
              "\n",
              "    .dataframe tbody tr th {\n",
              "        vertical-align: top;\n",
              "    }\n",
              "\n",
              "    .dataframe thead th {\n",
              "        text-align: right;\n",
              "    }\n",
              "</style>\n",
              "<table border=\"1\" class=\"dataframe\">\n",
              "  <thead>\n",
              "    <tr style=\"text-align: right;\">\n",
              "      <th></th>\n",
              "      <th>gender</th>\n",
              "      <th>age</th>\n",
              "      <th>study_programs</th>\n",
              "      <th>study_years</th>\n",
              "      <th>cgpa</th>\n",
              "      <th>marital_status</th>\n",
              "      <th>depression</th>\n",
              "      <th>anxiety</th>\n",
              "      <th>panic_attack</th>\n",
              "      <th>seeking_treatment</th>\n",
              "      <th>mental_health_issues</th>\n",
              "      <th>mental_health_category</th>\n",
              "    </tr>\n",
              "  </thead>\n",
              "  <tbody>\n",
              "    <tr>\n",
              "      <th>0</th>\n",
              "      <td>female</td>\n",
              "      <td>18_thn</td>\n",
              "      <td>engineering</td>\n",
              "      <td>year_1</td>\n",
              "      <td>3.00 - 3.49</td>\n",
              "      <td>no</td>\n",
              "      <td>yes</td>\n",
              "      <td>no</td>\n",
              "      <td>yes</td>\n",
              "      <td>no</td>\n",
              "      <td>yes</td>\n",
              "      <td>moderate</td>\n",
              "    </tr>\n",
              "    <tr>\n",
              "      <th>1</th>\n",
              "      <td>male</td>\n",
              "      <td>21_thn</td>\n",
              "      <td>education</td>\n",
              "      <td>year_2</td>\n",
              "      <td>3.00 - 3.49</td>\n",
              "      <td>no</td>\n",
              "      <td>no</td>\n",
              "      <td>yes</td>\n",
              "      <td>no</td>\n",
              "      <td>no</td>\n",
              "      <td>yes</td>\n",
              "      <td>mild</td>\n",
              "    </tr>\n",
              "    <tr>\n",
              "      <th>2</th>\n",
              "      <td>male</td>\n",
              "      <td>19_thn</td>\n",
              "      <td>information_tecnology</td>\n",
              "      <td>year_1</td>\n",
              "      <td>3.00 - 3.49</td>\n",
              "      <td>no</td>\n",
              "      <td>yes</td>\n",
              "      <td>yes</td>\n",
              "      <td>yes</td>\n",
              "      <td>no</td>\n",
              "      <td>yes</td>\n",
              "      <td>severe</td>\n",
              "    </tr>\n",
              "    <tr>\n",
              "      <th>3</th>\n",
              "      <td>female</td>\n",
              "      <td>22_thn</td>\n",
              "      <td>law</td>\n",
              "      <td>year_3</td>\n",
              "      <td>3.00 - 3.49</td>\n",
              "      <td>yes</td>\n",
              "      <td>yes</td>\n",
              "      <td>no</td>\n",
              "      <td>no</td>\n",
              "      <td>no</td>\n",
              "      <td>yes</td>\n",
              "      <td>mild</td>\n",
              "    </tr>\n",
              "    <tr>\n",
              "      <th>4</th>\n",
              "      <td>male</td>\n",
              "      <td>23_thn</td>\n",
              "      <td>mathematics</td>\n",
              "      <td>year_4</td>\n",
              "      <td>3.00 - 3.49</td>\n",
              "      <td>no</td>\n",
              "      <td>no</td>\n",
              "      <td>no</td>\n",
              "      <td>no</td>\n",
              "      <td>no</td>\n",
              "      <td>no</td>\n",
              "      <td>normal</td>\n",
              "    </tr>\n",
              "    <tr>\n",
              "      <th>...</th>\n",
              "      <td>...</td>\n",
              "      <td>...</td>\n",
              "      <td>...</td>\n",
              "      <td>...</td>\n",
              "      <td>...</td>\n",
              "      <td>...</td>\n",
              "      <td>...</td>\n",
              "      <td>...</td>\n",
              "      <td>...</td>\n",
              "      <td>...</td>\n",
              "      <td>...</td>\n",
              "      <td>...</td>\n",
              "    </tr>\n",
              "    <tr>\n",
              "      <th>95</th>\n",
              "      <td>female</td>\n",
              "      <td>21_thn</td>\n",
              "      <td>computer_science</td>\n",
              "      <td>year_1</td>\n",
              "      <td>3.50 - 4.00</td>\n",
              "      <td>no</td>\n",
              "      <td>no</td>\n",
              "      <td>yes</td>\n",
              "      <td>no</td>\n",
              "      <td>no</td>\n",
              "      <td>yes</td>\n",
              "      <td>mild</td>\n",
              "    </tr>\n",
              "    <tr>\n",
              "      <th>96</th>\n",
              "      <td>male</td>\n",
              "      <td>18_thn</td>\n",
              "      <td>engineering</td>\n",
              "      <td>year_2</td>\n",
              "      <td>3.00 - 3.49</td>\n",
              "      <td>no</td>\n",
              "      <td>yes</td>\n",
              "      <td>yes</td>\n",
              "      <td>no</td>\n",
              "      <td>no</td>\n",
              "      <td>yes</td>\n",
              "      <td>moderate</td>\n",
              "    </tr>\n",
              "    <tr>\n",
              "      <th>97</th>\n",
              "      <td>female</td>\n",
              "      <td>19_thn</td>\n",
              "      <td>nursing</td>\n",
              "      <td>year_3</td>\n",
              "      <td>3.50 - 4.00</td>\n",
              "      <td>yes</td>\n",
              "      <td>yes</td>\n",
              "      <td>no</td>\n",
              "      <td>yes</td>\n",
              "      <td>no</td>\n",
              "      <td>yes</td>\n",
              "      <td>moderate</td>\n",
              "    </tr>\n",
              "    <tr>\n",
              "      <th>98</th>\n",
              "      <td>female</td>\n",
              "      <td>23_thn</td>\n",
              "      <td>education</td>\n",
              "      <td>year_4</td>\n",
              "      <td>3.50 - 4.00</td>\n",
              "      <td>no</td>\n",
              "      <td>no</td>\n",
              "      <td>no</td>\n",
              "      <td>no</td>\n",
              "      <td>no</td>\n",
              "      <td>no</td>\n",
              "      <td>normal</td>\n",
              "    </tr>\n",
              "    <tr>\n",
              "      <th>99</th>\n",
              "      <td>male</td>\n",
              "      <td>20_thn</td>\n",
              "      <td>biomedical_science</td>\n",
              "      <td>year_2</td>\n",
              "      <td>3.00 - 3.49</td>\n",
              "      <td>no</td>\n",
              "      <td>no</td>\n",
              "      <td>no</td>\n",
              "      <td>no</td>\n",
              "      <td>no</td>\n",
              "      <td>no</td>\n",
              "      <td>normal</td>\n",
              "    </tr>\n",
              "  </tbody>\n",
              "</table>\n",
              "<p>99 rows × 12 columns</p>\n",
              "</div>\n",
              "      <button class=\"colab-df-convert\" onclick=\"convertToInteractive('df-3e82ee84-80c8-4d19-8213-6b3ee030986f')\"\n",
              "              title=\"Convert this dataframe to an interactive table.\"\n",
              "              style=\"display:none;\">\n",
              "        \n",
              "  <svg xmlns=\"http://www.w3.org/2000/svg\" height=\"24px\"viewBox=\"0 0 24 24\"\n",
              "       width=\"24px\">\n",
              "    <path d=\"M0 0h24v24H0V0z\" fill=\"none\"/>\n",
              "    <path d=\"M18.56 5.44l.94 2.06.94-2.06 2.06-.94-2.06-.94-.94-2.06-.94 2.06-2.06.94zm-11 1L8.5 8.5l.94-2.06 2.06-.94-2.06-.94L8.5 2.5l-.94 2.06-2.06.94zm10 10l.94 2.06.94-2.06 2.06-.94-2.06-.94-.94-2.06-.94 2.06-2.06.94z\"/><path d=\"M17.41 7.96l-1.37-1.37c-.4-.4-.92-.59-1.43-.59-.52 0-1.04.2-1.43.59L10.3 9.45l-7.72 7.72c-.78.78-.78 2.05 0 2.83L4 21.41c.39.39.9.59 1.41.59.51 0 1.02-.2 1.41-.59l7.78-7.78 2.81-2.81c.8-.78.8-2.07 0-2.86zM5.41 20L4 18.59l7.72-7.72 1.47 1.35L5.41 20z\"/>\n",
              "  </svg>\n",
              "      </button>\n",
              "      \n",
              "  <style>\n",
              "    .colab-df-container {\n",
              "      display:flex;\n",
              "      flex-wrap:wrap;\n",
              "      gap: 12px;\n",
              "    }\n",
              "\n",
              "    .colab-df-convert {\n",
              "      background-color: #E8F0FE;\n",
              "      border: none;\n",
              "      border-radius: 50%;\n",
              "      cursor: pointer;\n",
              "      display: none;\n",
              "      fill: #1967D2;\n",
              "      height: 32px;\n",
              "      padding: 0 0 0 0;\n",
              "      width: 32px;\n",
              "    }\n",
              "\n",
              "    .colab-df-convert:hover {\n",
              "      background-color: #E2EBFA;\n",
              "      box-shadow: 0px 1px 2px rgba(60, 64, 67, 0.3), 0px 1px 3px 1px rgba(60, 64, 67, 0.15);\n",
              "      fill: #174EA6;\n",
              "    }\n",
              "\n",
              "    [theme=dark] .colab-df-convert {\n",
              "      background-color: #3B4455;\n",
              "      fill: #D2E3FC;\n",
              "    }\n",
              "\n",
              "    [theme=dark] .colab-df-convert:hover {\n",
              "      background-color: #434B5C;\n",
              "      box-shadow: 0px 1px 3px 1px rgba(0, 0, 0, 0.15);\n",
              "      filter: drop-shadow(0px 1px 2px rgba(0, 0, 0, 0.3));\n",
              "      fill: #FFFFFF;\n",
              "    }\n",
              "  </style>\n",
              "\n",
              "      <script>\n",
              "        const buttonEl =\n",
              "          document.querySelector('#df-3e82ee84-80c8-4d19-8213-6b3ee030986f button.colab-df-convert');\n",
              "        buttonEl.style.display =\n",
              "          google.colab.kernel.accessAllowed ? 'block' : 'none';\n",
              "\n",
              "        async function convertToInteractive(key) {\n",
              "          const element = document.querySelector('#df-3e82ee84-80c8-4d19-8213-6b3ee030986f');\n",
              "          const dataTable =\n",
              "            await google.colab.kernel.invokeFunction('convertToInteractive',\n",
              "                                                     [key], {});\n",
              "          if (!dataTable) return;\n",
              "\n",
              "          const docLinkHtml = 'Like what you see? Visit the ' +\n",
              "            '<a target=\"_blank\" href=https://colab.research.google.com/notebooks/data_table.ipynb>data table notebook</a>'\n",
              "            + ' to learn more about interactive tables.';\n",
              "          element.innerHTML = '';\n",
              "          dataTable['output_type'] = 'display_data';\n",
              "          await google.colab.output.renderOutput(dataTable, element);\n",
              "          const docLink = document.createElement('div');\n",
              "          docLink.innerHTML = docLinkHtml;\n",
              "          element.appendChild(docLink);\n",
              "        }\n",
              "      </script>\n",
              "    </div>\n",
              "  </div>\n",
              "  "
            ]
          },
          "metadata": {},
          "execution_count": 125
        }
      ]
    },
    {
      "cell_type": "code",
      "source": [
        "# list of columns according to data type\n",
        "cat_feats = [cols for cols in df_fe.columns if (df_fe[cols].dtype=='O') and (cols != 'mental_health_category')]\n",
        "num_feats = [cols for cols in df_fe.columns if (df_fe[cols].dtype=='int64') or (df_fe[cols].dtype=='float64')]\n",
        "ord_feats = ['mental_health_category']"
      ],
      "metadata": {
        "id": "02JLH5up6crf"
      },
      "execution_count": 126,
      "outputs": []
    },
    {
      "cell_type": "code",
      "source": [
        "cat_feats"
      ],
      "metadata": {
        "colab": {
          "base_uri": "https://localhost:8080/"
        },
        "id": "bN-3Kfy7j7gE",
        "outputId": "f59f8157-adb2-45fc-d296-dd32436fd172"
      },
      "execution_count": 127,
      "outputs": [
        {
          "output_type": "execute_result",
          "data": {
            "text/plain": [
              "['gender',\n",
              " 'age',\n",
              " 'study_programs',\n",
              " 'study_years',\n",
              " 'cgpa',\n",
              " 'marital_status',\n",
              " 'depression',\n",
              " 'anxiety',\n",
              " 'panic_attack',\n",
              " 'seeking_treatment',\n",
              " 'mental_health_issues']"
            ]
          },
          "metadata": {},
          "execution_count": 127
        }
      ]
    },
    {
      "cell_type": "code",
      "source": [
        "num_feats"
      ],
      "metadata": {
        "colab": {
          "base_uri": "https://localhost:8080/"
        },
        "id": "C9vKRIw5kAA6",
        "outputId": "1bf4ae63-2188-4352-dad1-38bdea35f45b"
      },
      "execution_count": 128,
      "outputs": [
        {
          "output_type": "execute_result",
          "data": {
            "text/plain": [
              "[]"
            ]
          },
          "metadata": {},
          "execution_count": 128
        }
      ]
    },
    {
      "cell_type": "code",
      "source": [
        "ord_feats"
      ],
      "metadata": {
        "colab": {
          "base_uri": "https://localhost:8080/"
        },
        "id": "Xg2Mt7AJkBZl",
        "outputId": "9c12c6ba-e472-4bde-b3cd-7a021d2b8a43"
      },
      "execution_count": 129,
      "outputs": [
        {
          "output_type": "execute_result",
          "data": {
            "text/plain": [
              "['mental_health_category']"
            ]
          },
          "metadata": {},
          "execution_count": 129
        }
      ]
    },
    {
      "cell_type": "code",
      "source": [
        "# mapping ordinal feature\n",
        "ordinal_mapping = [\n",
        "    {'col': 'mental_health_category',\n",
        "    'mapping': {'normal':0, 'mild':1, 'moderate':2, 'severe':3}}]\n"
      ],
      "metadata": {
        "id": "rMyStRY_7m8E"
      },
      "execution_count": 130,
      "outputs": []
    },
    {
      "cell_type": "code",
      "source": [
        "# encoding ordinal features with OrdinalEncoder\n",
        "ord_encoder = ce.OrdinalEncoder(cols=ord_feats, mapping=ordinal_mapping)\n",
        "df_fe = ord_encoder.fit_transform(df_fe)"
      ],
      "metadata": {
        "id": "asdyZe0m8EKU"
      },
      "execution_count": 131,
      "outputs": []
    },
    {
      "cell_type": "code",
      "source": [
        "# encoding categorical features with TargetEncoder\n",
        "encoder = TargetEncoder()\n",
        "df_fe[cat_feats] = encoder.fit_transform(df_fe[cat_feats], df_fe['mental_health_category'])"
      ],
      "metadata": {
        "id": "LLBQEixx7RSG"
      },
      "execution_count": 132,
      "outputs": []
    },
    {
      "cell_type": "code",
      "source": [
        "# check dataframe after encoding\n",
        "df_fe"
      ],
      "metadata": {
        "colab": {
          "base_uri": "https://localhost:8080/",
          "height": 0
        },
        "id": "6K_9CabAXdeQ",
        "outputId": "58d42685-e8f6-4b27-ecc8-9d95b5ea058a"
      },
      "execution_count": 133,
      "outputs": [
        {
          "output_type": "execute_result",
          "data": {
            "text/plain": [
              "      gender       age  study_programs  study_years      cgpa  marital_status  \\\n",
              "0   1.053947  1.080174        0.965906     1.003023  1.002761        0.831690   \n",
              "1   0.986542  0.974134        1.018142     1.060404  1.002761        0.831690   \n",
              "2   0.986542  1.064393        1.237306     1.003023  1.002761        0.831690   \n",
              "3   1.053947  0.955079        1.077111     1.111942  1.002761        1.444536   \n",
              "4   0.986542  0.994724        0.896252     0.932028  1.002761        0.831690   \n",
              "..       ...       ...             ...          ...       ...             ...   \n",
              "95  1.053947  0.974134        0.966643     1.003023  1.061718        0.831690   \n",
              "96  0.986542  1.080174        0.965906     1.060404  1.002761        0.831690   \n",
              "97  1.053947  1.064393        1.026005     1.111942  1.061718        1.444536   \n",
              "98  1.053947  0.994724        1.018142     0.932028  1.061718        0.831690   \n",
              "99  0.986542  1.057278        0.857231     1.060404  1.002761        0.831690   \n",
              "\n",
              "    depression   anxiety  panic_attack  seeking_treatment  \\\n",
              "0     1.823103  0.574297      1.720885           0.957039   \n",
              "1     0.506432  1.737397      0.595282           0.957039   \n",
              "2     1.823103  1.737397      1.720885           0.957039   \n",
              "3     1.823103  0.574297      0.595282           0.957039   \n",
              "4     0.506432  0.574297      0.595282           0.957039   \n",
              "..         ...       ...           ...                ...   \n",
              "95    0.506432  1.737397      0.595282           0.957039   \n",
              "96    1.823103  1.737397      0.595282           0.957039   \n",
              "97    1.823103  0.574297      1.720885           0.957039   \n",
              "98    0.506432  0.574297      0.595282           0.957039   \n",
              "99    0.506432  0.574297      0.595282           0.957039   \n",
              "\n",
              "    mental_health_issues  mental_health_category  \n",
              "0               1.586916                       2  \n",
              "1               1.586916                       1  \n",
              "2               1.586916                       3  \n",
              "3               1.586916                       1  \n",
              "4               0.187954                       0  \n",
              "..                   ...                     ...  \n",
              "95              1.586916                       1  \n",
              "96              1.586916                       2  \n",
              "97              1.586916                       2  \n",
              "98              0.187954                       0  \n",
              "99              0.187954                       0  \n",
              "\n",
              "[99 rows x 12 columns]"
            ],
            "text/html": [
              "\n",
              "  <div id=\"df-1e7dc416-e03a-4ef0-9543-10b3cbead609\">\n",
              "    <div class=\"colab-df-container\">\n",
              "      <div>\n",
              "<style scoped>\n",
              "    .dataframe tbody tr th:only-of-type {\n",
              "        vertical-align: middle;\n",
              "    }\n",
              "\n",
              "    .dataframe tbody tr th {\n",
              "        vertical-align: top;\n",
              "    }\n",
              "\n",
              "    .dataframe thead th {\n",
              "        text-align: right;\n",
              "    }\n",
              "</style>\n",
              "<table border=\"1\" class=\"dataframe\">\n",
              "  <thead>\n",
              "    <tr style=\"text-align: right;\">\n",
              "      <th></th>\n",
              "      <th>gender</th>\n",
              "      <th>age</th>\n",
              "      <th>study_programs</th>\n",
              "      <th>study_years</th>\n",
              "      <th>cgpa</th>\n",
              "      <th>marital_status</th>\n",
              "      <th>depression</th>\n",
              "      <th>anxiety</th>\n",
              "      <th>panic_attack</th>\n",
              "      <th>seeking_treatment</th>\n",
              "      <th>mental_health_issues</th>\n",
              "      <th>mental_health_category</th>\n",
              "    </tr>\n",
              "  </thead>\n",
              "  <tbody>\n",
              "    <tr>\n",
              "      <th>0</th>\n",
              "      <td>1.053947</td>\n",
              "      <td>1.080174</td>\n",
              "      <td>0.965906</td>\n",
              "      <td>1.003023</td>\n",
              "      <td>1.002761</td>\n",
              "      <td>0.831690</td>\n",
              "      <td>1.823103</td>\n",
              "      <td>0.574297</td>\n",
              "      <td>1.720885</td>\n",
              "      <td>0.957039</td>\n",
              "      <td>1.586916</td>\n",
              "      <td>2</td>\n",
              "    </tr>\n",
              "    <tr>\n",
              "      <th>1</th>\n",
              "      <td>0.986542</td>\n",
              "      <td>0.974134</td>\n",
              "      <td>1.018142</td>\n",
              "      <td>1.060404</td>\n",
              "      <td>1.002761</td>\n",
              "      <td>0.831690</td>\n",
              "      <td>0.506432</td>\n",
              "      <td>1.737397</td>\n",
              "      <td>0.595282</td>\n",
              "      <td>0.957039</td>\n",
              "      <td>1.586916</td>\n",
              "      <td>1</td>\n",
              "    </tr>\n",
              "    <tr>\n",
              "      <th>2</th>\n",
              "      <td>0.986542</td>\n",
              "      <td>1.064393</td>\n",
              "      <td>1.237306</td>\n",
              "      <td>1.003023</td>\n",
              "      <td>1.002761</td>\n",
              "      <td>0.831690</td>\n",
              "      <td>1.823103</td>\n",
              "      <td>1.737397</td>\n",
              "      <td>1.720885</td>\n",
              "      <td>0.957039</td>\n",
              "      <td>1.586916</td>\n",
              "      <td>3</td>\n",
              "    </tr>\n",
              "    <tr>\n",
              "      <th>3</th>\n",
              "      <td>1.053947</td>\n",
              "      <td>0.955079</td>\n",
              "      <td>1.077111</td>\n",
              "      <td>1.111942</td>\n",
              "      <td>1.002761</td>\n",
              "      <td>1.444536</td>\n",
              "      <td>1.823103</td>\n",
              "      <td>0.574297</td>\n",
              "      <td>0.595282</td>\n",
              "      <td>0.957039</td>\n",
              "      <td>1.586916</td>\n",
              "      <td>1</td>\n",
              "    </tr>\n",
              "    <tr>\n",
              "      <th>4</th>\n",
              "      <td>0.986542</td>\n",
              "      <td>0.994724</td>\n",
              "      <td>0.896252</td>\n",
              "      <td>0.932028</td>\n",
              "      <td>1.002761</td>\n",
              "      <td>0.831690</td>\n",
              "      <td>0.506432</td>\n",
              "      <td>0.574297</td>\n",
              "      <td>0.595282</td>\n",
              "      <td>0.957039</td>\n",
              "      <td>0.187954</td>\n",
              "      <td>0</td>\n",
              "    </tr>\n",
              "    <tr>\n",
              "      <th>...</th>\n",
              "      <td>...</td>\n",
              "      <td>...</td>\n",
              "      <td>...</td>\n",
              "      <td>...</td>\n",
              "      <td>...</td>\n",
              "      <td>...</td>\n",
              "      <td>...</td>\n",
              "      <td>...</td>\n",
              "      <td>...</td>\n",
              "      <td>...</td>\n",
              "      <td>...</td>\n",
              "      <td>...</td>\n",
              "    </tr>\n",
              "    <tr>\n",
              "      <th>95</th>\n",
              "      <td>1.053947</td>\n",
              "      <td>0.974134</td>\n",
              "      <td>0.966643</td>\n",
              "      <td>1.003023</td>\n",
              "      <td>1.061718</td>\n",
              "      <td>0.831690</td>\n",
              "      <td>0.506432</td>\n",
              "      <td>1.737397</td>\n",
              "      <td>0.595282</td>\n",
              "      <td>0.957039</td>\n",
              "      <td>1.586916</td>\n",
              "      <td>1</td>\n",
              "    </tr>\n",
              "    <tr>\n",
              "      <th>96</th>\n",
              "      <td>0.986542</td>\n",
              "      <td>1.080174</td>\n",
              "      <td>0.965906</td>\n",
              "      <td>1.060404</td>\n",
              "      <td>1.002761</td>\n",
              "      <td>0.831690</td>\n",
              "      <td>1.823103</td>\n",
              "      <td>1.737397</td>\n",
              "      <td>0.595282</td>\n",
              "      <td>0.957039</td>\n",
              "      <td>1.586916</td>\n",
              "      <td>2</td>\n",
              "    </tr>\n",
              "    <tr>\n",
              "      <th>97</th>\n",
              "      <td>1.053947</td>\n",
              "      <td>1.064393</td>\n",
              "      <td>1.026005</td>\n",
              "      <td>1.111942</td>\n",
              "      <td>1.061718</td>\n",
              "      <td>1.444536</td>\n",
              "      <td>1.823103</td>\n",
              "      <td>0.574297</td>\n",
              "      <td>1.720885</td>\n",
              "      <td>0.957039</td>\n",
              "      <td>1.586916</td>\n",
              "      <td>2</td>\n",
              "    </tr>\n",
              "    <tr>\n",
              "      <th>98</th>\n",
              "      <td>1.053947</td>\n",
              "      <td>0.994724</td>\n",
              "      <td>1.018142</td>\n",
              "      <td>0.932028</td>\n",
              "      <td>1.061718</td>\n",
              "      <td>0.831690</td>\n",
              "      <td>0.506432</td>\n",
              "      <td>0.574297</td>\n",
              "      <td>0.595282</td>\n",
              "      <td>0.957039</td>\n",
              "      <td>0.187954</td>\n",
              "      <td>0</td>\n",
              "    </tr>\n",
              "    <tr>\n",
              "      <th>99</th>\n",
              "      <td>0.986542</td>\n",
              "      <td>1.057278</td>\n",
              "      <td>0.857231</td>\n",
              "      <td>1.060404</td>\n",
              "      <td>1.002761</td>\n",
              "      <td>0.831690</td>\n",
              "      <td>0.506432</td>\n",
              "      <td>0.574297</td>\n",
              "      <td>0.595282</td>\n",
              "      <td>0.957039</td>\n",
              "      <td>0.187954</td>\n",
              "      <td>0</td>\n",
              "    </tr>\n",
              "  </tbody>\n",
              "</table>\n",
              "<p>99 rows × 12 columns</p>\n",
              "</div>\n",
              "      <button class=\"colab-df-convert\" onclick=\"convertToInteractive('df-1e7dc416-e03a-4ef0-9543-10b3cbead609')\"\n",
              "              title=\"Convert this dataframe to an interactive table.\"\n",
              "              style=\"display:none;\">\n",
              "        \n",
              "  <svg xmlns=\"http://www.w3.org/2000/svg\" height=\"24px\"viewBox=\"0 0 24 24\"\n",
              "       width=\"24px\">\n",
              "    <path d=\"M0 0h24v24H0V0z\" fill=\"none\"/>\n",
              "    <path d=\"M18.56 5.44l.94 2.06.94-2.06 2.06-.94-2.06-.94-.94-2.06-.94 2.06-2.06.94zm-11 1L8.5 8.5l.94-2.06 2.06-.94-2.06-.94L8.5 2.5l-.94 2.06-2.06.94zm10 10l.94 2.06.94-2.06 2.06-.94-2.06-.94-.94-2.06-.94 2.06-2.06.94z\"/><path d=\"M17.41 7.96l-1.37-1.37c-.4-.4-.92-.59-1.43-.59-.52 0-1.04.2-1.43.59L10.3 9.45l-7.72 7.72c-.78.78-.78 2.05 0 2.83L4 21.41c.39.39.9.59 1.41.59.51 0 1.02-.2 1.41-.59l7.78-7.78 2.81-2.81c.8-.78.8-2.07 0-2.86zM5.41 20L4 18.59l7.72-7.72 1.47 1.35L5.41 20z\"/>\n",
              "  </svg>\n",
              "      </button>\n",
              "      \n",
              "  <style>\n",
              "    .colab-df-container {\n",
              "      display:flex;\n",
              "      flex-wrap:wrap;\n",
              "      gap: 12px;\n",
              "    }\n",
              "\n",
              "    .colab-df-convert {\n",
              "      background-color: #E8F0FE;\n",
              "      border: none;\n",
              "      border-radius: 50%;\n",
              "      cursor: pointer;\n",
              "      display: none;\n",
              "      fill: #1967D2;\n",
              "      height: 32px;\n",
              "      padding: 0 0 0 0;\n",
              "      width: 32px;\n",
              "    }\n",
              "\n",
              "    .colab-df-convert:hover {\n",
              "      background-color: #E2EBFA;\n",
              "      box-shadow: 0px 1px 2px rgba(60, 64, 67, 0.3), 0px 1px 3px 1px rgba(60, 64, 67, 0.15);\n",
              "      fill: #174EA6;\n",
              "    }\n",
              "\n",
              "    [theme=dark] .colab-df-convert {\n",
              "      background-color: #3B4455;\n",
              "      fill: #D2E3FC;\n",
              "    }\n",
              "\n",
              "    [theme=dark] .colab-df-convert:hover {\n",
              "      background-color: #434B5C;\n",
              "      box-shadow: 0px 1px 3px 1px rgba(0, 0, 0, 0.15);\n",
              "      filter: drop-shadow(0px 1px 2px rgba(0, 0, 0, 0.3));\n",
              "      fill: #FFFFFF;\n",
              "    }\n",
              "  </style>\n",
              "\n",
              "      <script>\n",
              "        const buttonEl =\n",
              "          document.querySelector('#df-1e7dc416-e03a-4ef0-9543-10b3cbead609 button.colab-df-convert');\n",
              "        buttonEl.style.display =\n",
              "          google.colab.kernel.accessAllowed ? 'block' : 'none';\n",
              "\n",
              "        async function convertToInteractive(key) {\n",
              "          const element = document.querySelector('#df-1e7dc416-e03a-4ef0-9543-10b3cbead609');\n",
              "          const dataTable =\n",
              "            await google.colab.kernel.invokeFunction('convertToInteractive',\n",
              "                                                     [key], {});\n",
              "          if (!dataTable) return;\n",
              "\n",
              "          const docLinkHtml = 'Like what you see? Visit the ' +\n",
              "            '<a target=\"_blank\" href=https://colab.research.google.com/notebooks/data_table.ipynb>data table notebook</a>'\n",
              "            + ' to learn more about interactive tables.';\n",
              "          element.innerHTML = '';\n",
              "          dataTable['output_type'] = 'display_data';\n",
              "          await google.colab.output.renderOutput(dataTable, element);\n",
              "          const docLink = document.createElement('div');\n",
              "          docLink.innerHTML = docLinkHtml;\n",
              "          element.appendChild(docLink);\n",
              "        }\n",
              "      </script>\n",
              "    </div>\n",
              "  </div>\n",
              "  "
            ]
          },
          "metadata": {},
          "execution_count": 133
        }
      ]
    },
    {
      "cell_type": "markdown",
      "source": [
        "###**b. Features Selection**"
      ],
      "metadata": {
        "id": "UQrL9JJbf03A"
      }
    },
    {
      "cell_type": "code",
      "source": [
        "# check correlation all features with heatmap\n",
        "corr_ = df_fe.corr()\n",
        "plt.figure(figsize=(10,8))\n",
        "mask = np.triu(np.ones_like(corr_, dtype=bool))\n",
        "sns.heatmap(df_fe.corr(), annot=True, fmt='.2f', mask=mask)\n",
        "plt.show()\n",
        "     "
      ],
      "metadata": {
        "colab": {
          "base_uri": "https://localhost:8080/",
          "height": 0
        },
        "id": "1jOJxVhZgGrc",
        "outputId": "3d92daed-be7d-449d-c15a-4369ebb10f6f"
      },
      "execution_count": 134,
      "outputs": [
        {
          "output_type": "display_data",
          "data": {
            "text/plain": [
              "<Figure size 1000x800 with 2 Axes>"
            ],
            "image/png": "[encoded data removed]"
          },
          "metadata": {}
        }
      ]
    },
    {
      "cell_type": "markdown",
      "source": [
        "\n",
        "> - Karena sebenarnya kolom `mental_health_issues` dan `mental_health_category` adalah kolom label/target, jadi cukup memilih satu diantara keduanya. Dalam konteks disini, dipilih kolom `mental_health_category` sebagai kolom label/target (tujuannya untuk klasifikasi masalah kesehatan mental mahasiswa).\n",
        ">\n",
        "> - Berdasarkan heatmap diatas, kolom berikut ini: `depression`, `anxiety`, `panic_attack`memiliki korelasi yang **kuat** dengan kolom `mental_health_category`. sedangkan kolom `study_programs`,`marital_status` memiliki korelasi yang **sedang** dengan kolom `mental_health_category`.\n",
        "\n"
      ],
      "metadata": {
        "id": "MNQ4wkorLBgS"
      }
    },
    {
      "cell_type": "markdown",
      "source": [
        "##**4. Modeling**"
      ],
      "metadata": {
        "id": "8bVzDvxJos76"
      }
    },
    {
      "cell_type": "code",
      "source": [
        "# drop columns not used\n",
        "df = df.drop(columns=['mental_health_issues','study_programs'])"
      ],
      "metadata": {
        "id": "u57RIFQ4D28o"
      },
      "execution_count": 135,
      "outputs": []
    },
    {
      "cell_type": "code",
      "source": [
        "# check dataframe\n",
        "df"
      ],
      "metadata": {
        "colab": {
          "base_uri": "https://localhost:8080/",
          "height": 835
        },
        "id": "VvBZoHHYFlmy",
        "outputId": "b5345d1b-4ebd-481e-dda4-7c462b729dc9"
      },
      "execution_count": 136,
      "outputs": [
        {
          "output_type": "execute_result",
          "data": {
            "text/plain": [
              "    gender     age study_years         cgpa marital_status depression anxiety  \\\n",
              "0   female  18_thn      year_1  3.00 - 3.49             no        yes      no   \n",
              "1     male  21_thn      year_2  3.00 - 3.49             no         no     yes   \n",
              "2     male  19_thn      year_1  3.00 - 3.49             no        yes     yes   \n",
              "3   female  22_thn      year_3  3.00 - 3.49            yes        yes      no   \n",
              "4     male  23_thn      year_4  3.00 - 3.49             no         no      no   \n",
              "..     ...     ...         ...          ...            ...        ...     ...   \n",
              "95  female  21_thn      year_1  3.50 - 4.00             no         no     yes   \n",
              "96    male  18_thn      year_2  3.00 - 3.49             no        yes     yes   \n",
              "97  female  19_thn      year_3  3.50 - 4.00            yes        yes      no   \n",
              "98  female  23_thn      year_4  3.50 - 4.00             no         no      no   \n",
              "99    male  20_thn      year_2  3.00 - 3.49             no         no      no   \n",
              "\n",
              "   panic_attack seeking_treatment mental_health_category  \n",
              "0           yes                no               moderate  \n",
              "1            no                no                   mild  \n",
              "2           yes                no                 severe  \n",
              "3            no                no                   mild  \n",
              "4            no                no                 normal  \n",
              "..          ...               ...                    ...  \n",
              "95           no                no                   mild  \n",
              "96           no                no               moderate  \n",
              "97          yes                no               moderate  \n",
              "98           no                no                 normal  \n",
              "99           no                no                 normal  \n",
              "\n",
              "[99 rows x 10 columns]"
            ],
            "text/html": [
              "\n",
              "  <div id=\"df-4212db97-8dea-42c6-abdc-9b6cc71cd4c0\">\n",
              "    <div class=\"colab-df-container\">\n",
              "      <div>\n",
              "<style scoped>\n",
              "    .dataframe tbody tr th:only-of-type {\n",
              "        vertical-align: middle;\n",
              "    }\n",
              "\n",
              "    .dataframe tbody tr th {\n",
              "        vertical-align: top;\n",
              "    }\n",
              "\n",
              "    .dataframe thead th {\n",
              "        text-align: right;\n",
              "    }\n",
              "</style>\n",
              "<table border=\"1\" class=\"dataframe\">\n",
              "  <thead>\n",
              "    <tr style=\"text-align: right;\">\n",
              "      <th></th>\n",
              "      <th>gender</th>\n",
              "      <th>age</th>\n",
              "      <th>study_years</th>\n",
              "      <th>cgpa</th>\n",
              "      <th>marital_status</th>\n",
              "      <th>depression</th>\n",
              "      <th>anxiety</th>\n",
              "      <th>panic_attack</th>\n",
              "      <th>seeking_treatment</th>\n",
              "      <th>mental_health_category</th>\n",
              "    </tr>\n",
              "  </thead>\n",
              "  <tbody>\n",
              "    <tr>\n",
              "      <th>0</th>\n",
              "      <td>female</td>\n",
              "      <td>18_thn</td>\n",
              "      <td>year_1</td>\n",
              "      <td>3.00 - 3.49</td>\n",
              "      <td>no</td>\n",
              "      <td>yes</td>\n",
              "      <td>no</td>\n",
              "      <td>yes</td>\n",
              "      <td>no</td>\n",
              "      <td>moderate</td>\n",
              "    </tr>\n",
              "    <tr>\n",
              "      <th>1</th>\n",
              "      <td>male</td>\n",
              "      <td>21_thn</td>\n",
              "      <td>year_2</td>\n",
              "      <td>3.00 - 3.49</td>\n",
              "      <td>no</td>\n",
              "      <td>no</td>\n",
              "      <td>yes</td>\n",
              "      <td>no</td>\n",
              "      <td>no</td>\n",
              "      <td>mild</td>\n",
              "    </tr>\n",
              "    <tr>\n",
              "      <th>2</th>\n",
              "      <td>male</td>\n",
              "      <td>19_thn</td>\n",
              "      <td>year_1</td>\n",
              "      <td>3.00 - 3.49</td>\n",
              "      <td>no</td>\n",
              "      <td>yes</td>\n",
              "      <td>yes</td>\n",
              "      <td>yes</td>\n",
              "      <td>no</td>\n",
              "      <td>severe</td>\n",
              "    </tr>\n",
              "    <tr>\n",
              "      <th>3</th>\n",
              "      <td>female</td>\n",
              "      <td>22_thn</td>\n",
              "      <td>year_3</td>\n",
              "      <td>3.00 - 3.49</td>\n",
              "      <td>yes</td>\n",
              "      <td>yes</td>\n",
              "      <td>no</td>\n",
              "      <td>no</td>\n",
              "      <td>no</td>\n",
              "      <td>mild</td>\n",
              "    </tr>\n",
              "    <tr>\n",
              "      <th>4</th>\n",
              "      <td>male</td>\n",
              "      <td>23_thn</td>\n",
              "      <td>year_4</td>\n",
              "      <td>3.00 - 3.49</td>\n",
              "      <td>no</td>\n",
              "      <td>no</td>\n",
              "      <td>no</td>\n",
              "      <td>no</td>\n",
              "      <td>no</td>\n",
              "      <td>normal</td>\n",
              "    </tr>\n",
              "    <tr>\n",
              "      <th>...</th>\n",
              "      <td>...</td>\n",
              "      <td>...</td>\n",
              "      <td>...</td>\n",
              "      <td>...</td>\n",
              "      <td>...</td>\n",
              "      <td>...</td>\n",
              "      <td>...</td>\n",
              "      <td>...</td>\n",
              "      <td>...</td>\n",
              "      <td>...</td>\n",
              "    </tr>\n",
              "    <tr>\n",
              "      <th>95</th>\n",
              "      <td>female</td>\n",
              "      <td>21_thn</td>\n",
              "      <td>year_1</td>\n",
              "      <td>3.50 - 4.00</td>\n",
              "      <td>no</td>\n",
              "      <td>no</td>\n",
              "      <td>yes</td>\n",
              "      <td>no</td>\n",
              "      <td>no</td>\n",
              "      <td>mild</td>\n",
              "    </tr>\n",
              "    <tr>\n",
              "      <th>96</th>\n",
              "      <td>male</td>\n",
              "      <td>18_thn</td>\n",
              "      <td>year_2</td>\n",
              "      <td>3.00 - 3.49</td>\n",
              "      <td>no</td>\n",
              "      <td>yes</td>\n",
              "      <td>yes</td>\n",
              "      <td>no</td>\n",
              "      <td>no</td>\n",
              "      <td>moderate</td>\n",
              "    </tr>\n",
              "    <tr>\n",
              "      <th>97</th>\n",
              "      <td>female</td>\n",
              "      <td>19_thn</td>\n",
              "      <td>year_3</td>\n",
              "      <td>3.50 - 4.00</td>\n",
              "      <td>yes</td>\n",
              "      <td>yes</td>\n",
              "      <td>no</td>\n",
              "      <td>yes</td>\n",
              "      <td>no</td>\n",
              "      <td>moderate</td>\n",
              "    </tr>\n",
              "    <tr>\n",
              "      <th>98</th>\n",
              "      <td>female</td>\n",
              "      <td>23_thn</td>\n",
              "      <td>year_4</td>\n",
              "      <td>3.50 - 4.00</td>\n",
              "      <td>no</td>\n",
              "      <td>no</td>\n",
              "      <td>no</td>\n",
              "      <td>no</td>\n",
              "      <td>no</td>\n",
              "      <td>normal</td>\n",
              "    </tr>\n",
              "    <tr>\n",
              "      <th>99</th>\n",
              "      <td>male</td>\n",
              "      <td>20_thn</td>\n",
              "      <td>year_2</td>\n",
              "      <td>3.00 - 3.49</td>\n",
              "      <td>no</td>\n",
              "      <td>no</td>\n",
              "      <td>no</td>\n",
              "      <td>no</td>\n",
              "      <td>no</td>\n",
              "      <td>normal</td>\n",
              "    </tr>\n",
              "  </tbody>\n",
              "</table>\n",
              "<p>99 rows × 10 columns</p>\n",
              "</div>\n",
              "      <button class=\"colab-df-convert\" onclick=\"convertToInteractive('df-4212db97-8dea-42c6-abdc-9b6cc71cd4c0')\"\n",
              "              title=\"Convert this dataframe to an interactive table.\"\n",
              "              style=\"display:none;\">\n",
              "        \n",
              "  <svg xmlns=\"http://www.w3.org/2000/svg\" height=\"24px\"viewBox=\"0 0 24 24\"\n",
              "       width=\"24px\">\n",
              "    <path d=\"M0 0h24v24H0V0z\" fill=\"none\"/>\n",
              "    <path d=\"M18.56 5.44l.94 2.06.94-2.06 2.06-.94-2.06-.94-.94-2.06-.94 2.06-2.06.94zm-11 1L8.5 8.5l.94-2.06 2.06-.94-2.06-.94L8.5 2.5l-.94 2.06-2.06.94zm10 10l.94 2.06.94-2.06 2.06-.94-2.06-.94-.94-2.06-.94 2.06-2.06.94z\"/><path d=\"M17.41 7.96l-1.37-1.37c-.4-.4-.92-.59-1.43-.59-.52 0-1.04.2-1.43.59L10.3 9.45l-7.72 7.72c-.78.78-.78 2.05 0 2.83L4 21.41c.39.39.9.59 1.41.59.51 0 1.02-.2 1.41-.59l7.78-7.78 2.81-2.81c.8-.78.8-2.07 0-2.86zM5.41 20L4 18.59l7.72-7.72 1.47 1.35L5.41 20z\"/>\n",
              "  </svg>\n",
              "      </button>\n",
              "      \n",
              "  <style>\n",
              "    .colab-df-container {\n",
              "      display:flex;\n",
              "      flex-wrap:wrap;\n",
              "      gap: 12px;\n",
              "    }\n",
              "\n",
              "    .colab-df-convert {\n",
              "      background-color: #E8F0FE;\n",
              "      border: none;\n",
              "      border-radius: 50%;\n",
              "      cursor: pointer;\n",
              "      display: none;\n",
              "      fill: #1967D2;\n",
              "      height: 32px;\n",
              "      padding: 0 0 0 0;\n",
              "      width: 32px;\n",
              "    }\n",
              "\n",
              "    .colab-df-convert:hover {\n",
              "      background-color: #E2EBFA;\n",
              "      box-shadow: 0px 1px 2px rgba(60, 64, 67, 0.3), 0px 1px 3px 1px rgba(60, 64, 67, 0.15);\n",
              "      fill: #174EA6;\n",
              "    }\n",
              "\n",
              "    [theme=dark] .colab-df-convert {\n",
              "      background-color: #3B4455;\n",
              "      fill: #D2E3FC;\n",
              "    }\n",
              "\n",
              "    [theme=dark] .colab-df-convert:hover {\n",
              "      background-color: #434B5C;\n",
              "      box-shadow: 0px 1px 3px 1px rgba(0, 0, 0, 0.15);\n",
              "      filter: drop-shadow(0px 1px 2px rgba(0, 0, 0, 0.3));\n",
              "      fill: #FFFFFF;\n",
              "    }\n",
              "  </style>\n",
              "\n",
              "      <script>\n",
              "        const buttonEl =\n",
              "          document.querySelector('#df-4212db97-8dea-42c6-abdc-9b6cc71cd4c0 button.colab-df-convert');\n",
              "        buttonEl.style.display =\n",
              "          google.colab.kernel.accessAllowed ? 'block' : 'none';\n",
              "\n",
              "        async function convertToInteractive(key) {\n",
              "          const element = document.querySelector('#df-4212db97-8dea-42c6-abdc-9b6cc71cd4c0');\n",
              "          const dataTable =\n",
              "            await google.colab.kernel.invokeFunction('convertToInteractive',\n",
              "                                                     [key], {});\n",
              "          if (!dataTable) return;\n",
              "\n",
              "          const docLinkHtml = 'Like what you see? Visit the ' +\n",
              "            '<a target=\"_blank\" href=https://colab.research.google.com/notebooks/data_table.ipynb>data table notebook</a>'\n",
              "            + ' to learn more about interactive tables.';\n",
              "          element.innerHTML = '';\n",
              "          dataTable['output_type'] = 'display_data';\n",
              "          await google.colab.output.renderOutput(dataTable, element);\n",
              "          const docLink = document.createElement('div');\n",
              "          docLink.innerHTML = docLinkHtml;\n",
              "          element.appendChild(docLink);\n",
              "        }\n",
              "      </script>\n",
              "    </div>\n",
              "  </div>\n",
              "  "
            ]
          },
          "metadata": {},
          "execution_count": 136
        }
      ]
    },
    {
      "cell_type": "markdown",
      "source": [
        "###**b. Split Train & Test**"
      ],
      "metadata": {
        "id": "0MrEerbLtNcA"
      }
    },
    {
      "cell_type": "code",
      "source": [
        "# mapping ordinal feature\n",
        "ordinal_mapping = [\n",
        "    {'col': 'mental_health_category',\n",
        "    'mapping': {'normal':0, 'mild':1, 'moderate':2, 'severe':3}}]\n",
        "    \n",
        "# encoding ordinal label/target with OrdinalEncoder\n",
        "ord_enc = ce.OrdinalEncoder(cols=ord_feats, mapping=ordinal_mapping)\n",
        "df = ord_enc.fit_transform(df)"
      ],
      "metadata": {
        "id": "fMWnFWbUkLYq"
      },
      "execution_count": 137,
      "outputs": []
    },
    {
      "cell_type": "code",
      "source": [
        "# split dataset\n",
        "from sklearn.model_selection import train_test_split\n",
        "\n",
        "X = df.drop(columns=['mental_health_category'])\n",
        "y = df['mental_health_category']\n",
        "\n",
        "#split dataset \n",
        "X_train, X_test, y_train, y_test = train_test_split(X, y, stratify=y, test_size= 0.20, random_state= 42)"
      ],
      "metadata": {
        "id": "AkjhlMUV5d0M"
      },
      "execution_count": 138,
      "outputs": []
    },
    {
      "cell_type": "code",
      "source": [
        "# check sample after split\n",
        "for x in [X_train, y_train, X_test, y_test]:\n",
        "    print(x.shape)"
      ],
      "metadata": {
        "colab": {
          "base_uri": "https://localhost:8080/"
        },
        "id": "wEQDP3SIC-GQ",
        "outputId": "8ee4195f-8c8a-4f28-f2d0-6a88327f55b3"
      },
      "execution_count": 139,
      "outputs": [
        {
          "output_type": "stream",
          "name": "stdout",
          "text": [
            "(79, 9)\n",
            "(79,)\n",
            "(20, 9)\n",
            "(20,)\n"
          ]
        }
      ]
    },
    {
      "cell_type": "markdown",
      "source": [
        "###**a. Pipeline**"
      ],
      "metadata": {
        "id": "aPs3_Y_Rjj0C"
      }
    },
    {
      "cell_type": "code",
      "source": [
        "# define categorical and numerical columns\n",
        "categorical_feature = ['gender','age','study_years',\n",
        "                       'cgpa','marital_status','depression',\n",
        "                       'anxiety','panic_attack','seeking_treatment']"
      ],
      "metadata": {
        "id": "a56O3-bFkLYr"
      },
      "execution_count": 140,
      "outputs": []
    },
    {
      "cell_type": "code",
      "source": [
        "# use ColumnTransformer to encode features for pipeline purposes\n",
        "preprocessor = ColumnTransformer(\n",
        "      transformers=[('categorical', TargetEncoder(), categorical_feature)])"
      ],
      "metadata": {
        "id": "DZPYJu7eIdCb"
      },
      "execution_count": 141,
      "outputs": []
    },
    {
      "cell_type": "code",
      "source": [
        "set_config(display='diagram')"
      ],
      "metadata": {
        "id": "PvUCTlBJkeA2"
      },
      "execution_count": 142,
      "outputs": []
    },
    {
      "cell_type": "markdown",
      "source": [
        "###**c. Modeling**"
      ],
      "metadata": {
        "id": "r1jSgsfDxPiB"
      }
    },
    {
      "cell_type": "code",
      "source": [
        "# model random forest\n",
        "Random_Forest = RandomForestClassifier(random_state=42, class_weight='balanced')\n",
        "forest_pipe = Pipeline([\n",
        "    ('preprocessor',preprocessor),\n",
        "    ('forest',Random_Forest)])\n",
        "forest_pipe.fit(X_train, y_train)"
      ],
      "metadata": {
        "colab": {
          "base_uri": "https://localhost:8080/",
          "height": 192
        },
        "id": "1DP7krQPvIKZ",
        "outputId": "b4269f7f-7b3b-48a0-d82b-324b3f645394"
      },
      "execution_count": 143,
      "outputs": [
        {
          "output_type": "execute_result",
          "data": {
            "text/plain": [
              "Pipeline(steps=[('preprocessor',\n",
              "                 ColumnTransformer(transformers=[('categorical',\n",
              "                                                  TargetEncoder(),\n",
              "                                                  ['gender', 'age',\n",
              "                                                   'study_years', 'cgpa',\n",
              "                                                   'marital_status',\n",
              "                                                   'depression', 'anxiety',\n",
              "                                                   'panic_attack',\n",
              "                                                   'seeking_treatment'])])),\n",
              "                ('forest',\n",
              "                 RandomForestClassifier(class_weight='balanced',\n",
              "                                        random_state=42))])"
            ],
            "text/html": [
              "<style>#sk-container-id-4 {color: black;background-color: white;}#sk-container-id-4 pre{padding: 0;}#sk-container-id-4 div.sk-toggleable {background-color: white;}#sk-container-id-4 label.sk-toggleable__label {cursor: pointer;display: block;width: 100%;margin-bottom: 0;padding: 0.3em;box-sizing: border-box;text-align: center;}#sk-container-id-4 label.sk-toggleable__label-arrow:before {content: \"▸\";float: left;margin-right: 0.25em;color: #696969;}#sk-container-id-4 label.sk-toggleable__label-arrow:hover:before {color: black;}#sk-container-id-4 div.sk-estimator:hover label.sk-toggleable__label-arrow:before {color: black;}#sk-container-id-4 div.sk-toggleable__content {max-height: 0;max-width: 0;overflow: hidden;text-align: left;background-color: #f0f8ff;}#sk-container-id-4 div.sk-toggleable__content pre {margin: 0.2em;color: black;border-radius: 0.25em;background-color: #f0f8ff;}#sk-container-id-4 input.sk-toggleable__control:checked~div.sk-toggleable__content {max-height: 200px;max-width: 100%;overflow: auto;}#sk-container-id-4 input.sk-toggleable__control:checked~label.sk-toggleable__label-arrow:before {content: \"▾\";}#sk-container-id-4 div.sk-estimator input.sk-toggleable__control:checked~label.sk-toggleable__label {background-color: #d4ebff;}#sk-container-id-4 div.sk-label input.sk-toggleable__control:checked~label.sk-toggleable__label {background-color: #d4ebff;}#sk-container-id-4 input.sk-hidden--visually {border: 0;clip: rect(1px 1px 1px 1px);clip: rect(1px, 1px, 1px, 1px);height: 1px;margin: -1px;overflow: hidden;padding: 0;position: absolute;width: 1px;}#sk-container-id-4 div.sk-estimator {font-family: monospace;background-color: #f0f8ff;border: 1px dotted black;border-radius: 0.25em;box-sizing: border-box;margin-bottom: 0.5em;}#sk-container-id-4 div.sk-estimator:hover {background-color: #d4ebff;}#sk-container-id-4 div.sk-parallel-item::after {content: \"\";width: 100%;border-bottom: 1px solid gray;flex-grow: 1;}#sk-container-id-4 div.sk-label:hover label.sk-toggleable__label {background-color: #d4ebff;}#sk-container-id-4 div.sk-serial::before {content: \"\";position: absolute;border-left: 1px solid gray;box-sizing: border-box;top: 0;bottom: 0;left: 50%;z-index: 0;}#sk-container-id-4 div.sk-serial {display: flex;flex-direction: column;align-items: center;background-color: white;padding-right: 0.2em;padding-left: 0.2em;position: relative;}#sk-container-id-4 div.sk-item {position: relative;z-index: 1;}#sk-container-id-4 div.sk-parallel {display: flex;align-items: stretch;justify-content: center;background-color: white;position: relative;}#sk-container-id-4 div.sk-item::before, #sk-container-id-4 div.sk-parallel-item::before {content: \"\";position: absolute;border-left: 1px solid gray;box-sizing: border-box;top: 0;bottom: 0;left: 50%;z-index: -1;}#sk-container-id-4 div.sk-parallel-item {display: flex;flex-direction: column;z-index: 1;position: relative;background-color: white;}#sk-container-id-4 div.sk-parallel-item:first-child::after {align-self: flex-end;width: 50%;}#sk-container-id-4 div.sk-parallel-item:last-child::after {align-self: flex-start;width: 50%;}#sk-container-id-4 div.sk-parallel-item:only-child::after {width: 0;}#sk-container-id-4 div.sk-dashed-wrapped {border: 1px dashed gray;margin: 0 0.4em 0.5em 0.4em;box-sizing: border-box;padding-bottom: 0.4em;background-color: white;}#sk-container-id-4 div.sk-label label {font-family: monospace;font-weight: bold;display: inline-block;line-height: 1.2em;}#sk-container-id-4 div.sk-label-container {text-align: center;}#sk-container-id-4 div.sk-container {/* jupyter's `normalize.less` sets `[hidden] { display: none; }` but bootstrap.min.css set `[hidden] { display: none !important; }` so we also need the `!important` here to be able to override the default hidden behavior on the sphinx rendered scikit-learn.org. See: https://github.com/scikit-learn/scikit-learn/issues/21755 */display: inline-block !important;position: relative;}#sk-container-id-4 div.sk-text-repr-fallback {display: none;}</style><div id=\"sk-container-id-4\" class=\"sk-top-container\"><div class=\"sk-text-repr-fallback\"><pre>Pipeline(steps=[(&#x27;preprocessor&#x27;,\n",
              "                 ColumnTransformer(transformers=[(&#x27;categorical&#x27;,\n",
              "                                                  TargetEncoder(),\n",
              "                                                  [&#x27;gender&#x27;, &#x27;age&#x27;,\n",
              "                                                   &#x27;study_years&#x27;, &#x27;cgpa&#x27;,\n",
              "                                                   &#x27;marital_status&#x27;,\n",
              "                                                   &#x27;depression&#x27;, &#x27;anxiety&#x27;,\n",
              "                                                   &#x27;panic_attack&#x27;,\n",
              "                                                   &#x27;seeking_treatment&#x27;])])),\n",
              "                (&#x27;forest&#x27;,\n",
              "                 RandomForestClassifier(class_weight=&#x27;balanced&#x27;,\n",
              "                                        random_state=42))])</pre><b>In a Jupyter environment, please rerun this cell to show the HTML representation or trust the notebook. <br />On GitHub, the HTML representation is unable to render, please try loading this page with nbviewer.org.</b></div><div class=\"sk-container\" hidden><div class=\"sk-item sk-dashed-wrapped\"><div class=\"sk-label-container\"><div class=\"sk-label sk-toggleable\"><input class=\"sk-toggleable__control sk-hidden--visually\" id=\"sk-estimator-id-18\" type=\"checkbox\" ><label for=\"sk-estimator-id-18\" class=\"sk-toggleable__label sk-toggleable__label-arrow\">Pipeline</label><div class=\"sk-toggleable__content\"><pre>Pipeline(steps=[(&#x27;preprocessor&#x27;,\n",
              "                 ColumnTransformer(transformers=[(&#x27;categorical&#x27;,\n",
              "                                                  TargetEncoder(),\n",
              "                                                  [&#x27;gender&#x27;, &#x27;age&#x27;,\n",
              "                                                   &#x27;study_years&#x27;, &#x27;cgpa&#x27;,\n",
              "                                                   &#x27;marital_status&#x27;,\n",
              "                                                   &#x27;depression&#x27;, &#x27;anxiety&#x27;,\n",
              "                                                   &#x27;panic_attack&#x27;,\n",
              "                                                   &#x27;seeking_treatment&#x27;])])),\n",
              "                (&#x27;forest&#x27;,\n",
              "                 RandomForestClassifier(class_weight=&#x27;balanced&#x27;,\n",
              "                                        random_state=42))])</pre></div></div></div><div class=\"sk-serial\"><div class=\"sk-item sk-dashed-wrapped\"><div class=\"sk-label-container\"><div class=\"sk-label sk-toggleable\"><input class=\"sk-toggleable__control sk-hidden--visually\" id=\"sk-estimator-id-19\" type=\"checkbox\" ><label for=\"sk-estimator-id-19\" class=\"sk-toggleable__label sk-toggleable__label-arrow\">preprocessor: ColumnTransformer</label><div class=\"sk-toggleable__content\"><pre>ColumnTransformer(transformers=[(&#x27;categorical&#x27;, TargetEncoder(),\n",
              "                                 [&#x27;gender&#x27;, &#x27;age&#x27;, &#x27;study_years&#x27;, &#x27;cgpa&#x27;,\n",
              "                                  &#x27;marital_status&#x27;, &#x27;depression&#x27;, &#x27;anxiety&#x27;,\n",
              "                                  &#x27;panic_attack&#x27;, &#x27;seeking_treatment&#x27;])])</pre></div></div></div><div class=\"sk-parallel\"><div class=\"sk-parallel-item\"><div class=\"sk-item\"><div class=\"sk-label-container\"><div class=\"sk-label sk-toggleable\"><input class=\"sk-toggleable__control sk-hidden--visually\" id=\"sk-estimator-id-20\" type=\"checkbox\" ><label for=\"sk-estimator-id-20\" class=\"sk-toggleable__label sk-toggleable__label-arrow\">categorical</label><div class=\"sk-toggleable__content\"><pre>[&#x27;gender&#x27;, &#x27;age&#x27;, &#x27;study_years&#x27;, &#x27;cgpa&#x27;, &#x27;marital_status&#x27;, &#x27;depression&#x27;, &#x27;anxiety&#x27;, &#x27;panic_attack&#x27;, &#x27;seeking_treatment&#x27;]</pre></div></div></div><div class=\"sk-serial\"><div class=\"sk-item\"><div class=\"sk-estimator sk-toggleable\"><input class=\"sk-toggleable__control sk-hidden--visually\" id=\"sk-estimator-id-21\" type=\"checkbox\" ><label for=\"sk-estimator-id-21\" class=\"sk-toggleable__label sk-toggleable__label-arrow\">TargetEncoder</label><div class=\"sk-toggleable__content\"><pre>TargetEncoder()</pre></div></div></div></div></div></div></div></div><div class=\"sk-item\"><div class=\"sk-estimator sk-toggleable\"><input class=\"sk-toggleable__control sk-hidden--visually\" id=\"sk-estimator-id-22\" type=\"checkbox\" ><label for=\"sk-estimator-id-22\" class=\"sk-toggleable__label sk-toggleable__label-arrow\">RandomForestClassifier</label><div class=\"sk-toggleable__content\"><pre>RandomForestClassifier(class_weight=&#x27;balanced&#x27;, random_state=42)</pre></div></div></div></div></div></div></div>"
            ]
          },
          "metadata": {},
          "execution_count": 143
        }
      ]
    },
    {
      "cell_type": "code",
      "source": [
        "# use skfold for cross validation \n",
        "cv = StratifiedKFold(n_splits=5, shuffle=True, random_state=42)"
      ],
      "metadata": {
        "id": "hCS1ifa7vZZ-"
      },
      "execution_count": 147,
      "outputs": []
    },
    {
      "cell_type": "code",
      "source": [
        "# Random Forest Cross Val \n",
        "f1_forest = cross_val_score(forest_pipe, X_train, y_train, cv=cv, scoring='f1_micro')\n",
        "print('Cross Validation Score: ', f1_forest)\n",
        "\n",
        "#get the mean of each fold \n",
        "print(\"Average Cross Validation score:\", f1_forest.mean() * 100)"
      ],
      "metadata": {
        "colab": {
          "base_uri": "https://localhost:8080/"
        },
        "id": "-2kwamJivPx_",
        "outputId": "14c590dc-83a4-4673-8f8b-176ffdc19e26"
      },
      "execution_count": 148,
      "outputs": [
        {
          "output_type": "stream",
          "name": "stdout",
          "text": [
            "Cross Validation Score:  [0.9375     0.9375     0.9375     1.         0.93333333]\n",
            "Average Cross Validation score: 94.91666666666667\n"
          ]
        }
      ]
    },
    {
      "cell_type": "code",
      "source": [
        "# add SMOTE in pipeline to oversampling the imbalance dataset\n",
        "Random_Forest = RandomForestClassifier(random_state=42, class_weight='balanced')\n",
        "forest_pipe_os = Pipeline([\n",
        "    ('preprocessor',preprocessor),\n",
        "    ('resampling', SMOTE(random_state=42)),\n",
        "    ('forest',Random_Forest)])\n",
        "forest_pipe_os.fit(X_train, y_train)"
      ],
      "metadata": {
        "colab": {
          "base_uri": "https://localhost:8080/",
          "height": 227
        },
        "id": "gqdSwvRYxQ4N",
        "outputId": "8464a0ef-730e-4a41-f1e1-5feb6f06bf44"
      },
      "execution_count": 162,
      "outputs": [
        {
          "output_type": "execute_result",
          "data": {
            "text/plain": [
              "Pipeline(steps=[('preprocessor',\n",
              "                 ColumnTransformer(transformers=[('categorical',\n",
              "                                                  TargetEncoder(),\n",
              "                                                  ['gender', 'age',\n",
              "                                                   'study_years', 'cgpa',\n",
              "                                                   'marital_status',\n",
              "                                                   'depression', 'anxiety',\n",
              "                                                   'panic_attack',\n",
              "                                                   'seeking_treatment'])])),\n",
              "                ('resampling', SMOTE(random_state=42)),\n",
              "                ('forest',\n",
              "                 RandomForestClassifier(class_weight='balanced',\n",
              "                                        random_state=42))])"
            ],
            "text/html": [
              "<style>#sk-container-id-12 {color: black;background-color: white;}#sk-container-id-12 pre{padding: 0;}#sk-container-id-12 div.sk-toggleable {background-color: white;}#sk-container-id-12 label.sk-toggleable__label {cursor: pointer;display: block;width: 100%;margin-bottom: 0;padding: 0.3em;box-sizing: border-box;text-align: center;}#sk-container-id-12 label.sk-toggleable__label-arrow:before {content: \"▸\";float: left;margin-right: 0.25em;color: #696969;}#sk-container-id-12 label.sk-toggleable__label-arrow:hover:before {color: black;}#sk-container-id-12 div.sk-estimator:hover label.sk-toggleable__label-arrow:before {color: black;}#sk-container-id-12 div.sk-toggleable__content {max-height: 0;max-width: 0;overflow: hidden;text-align: left;background-color: #f0f8ff;}#sk-container-id-12 div.sk-toggleable__content pre {margin: 0.2em;color: black;border-radius: 0.25em;background-color: #f0f8ff;}#sk-container-id-12 input.sk-toggleable__control:checked~div.sk-toggleable__content {max-height: 200px;max-width: 100%;overflow: auto;}#sk-container-id-12 input.sk-toggleable__control:checked~label.sk-toggleable__label-arrow:before {content: \"▾\";}#sk-container-id-12 div.sk-estimator input.sk-toggleable__control:checked~label.sk-toggleable__label {background-color: #d4ebff;}#sk-container-id-12 div.sk-label input.sk-toggleable__control:checked~label.sk-toggleable__label {background-color: #d4ebff;}#sk-container-id-12 input.sk-hidden--visually {border: 0;clip: rect(1px 1px 1px 1px);clip: rect(1px, 1px, 1px, 1px);height: 1px;margin: -1px;overflow: hidden;padding: 0;position: absolute;width: 1px;}#sk-container-id-12 div.sk-estimator {font-family: monospace;background-color: #f0f8ff;border: 1px dotted black;border-radius: 0.25em;box-sizing: border-box;margin-bottom: 0.5em;}#sk-container-id-12 div.sk-estimator:hover {background-color: #d4ebff;}#sk-container-id-12 div.sk-parallel-item::after {content: \"\";width: 100%;border-bottom: 1px solid gray;flex-grow: 1;}#sk-container-id-12 div.sk-label:hover label.sk-toggleable__label {background-color: #d4ebff;}#sk-container-id-12 div.sk-serial::before {content: \"\";position: absolute;border-left: 1px solid gray;box-sizing: border-box;top: 0;bottom: 0;left: 50%;z-index: 0;}#sk-container-id-12 div.sk-serial {display: flex;flex-direction: column;align-items: center;background-color: white;padding-right: 0.2em;padding-left: 0.2em;position: relative;}#sk-container-id-12 div.sk-item {position: relative;z-index: 1;}#sk-container-id-12 div.sk-parallel {display: flex;align-items: stretch;justify-content: center;background-color: white;position: relative;}#sk-container-id-12 div.sk-item::before, #sk-container-id-12 div.sk-parallel-item::before {content: \"\";position: absolute;border-left: 1px solid gray;box-sizing: border-box;top: 0;bottom: 0;left: 50%;z-index: -1;}#sk-container-id-12 div.sk-parallel-item {display: flex;flex-direction: column;z-index: 1;position: relative;background-color: white;}#sk-container-id-12 div.sk-parallel-item:first-child::after {align-self: flex-end;width: 50%;}#sk-container-id-12 div.sk-parallel-item:last-child::after {align-self: flex-start;width: 50%;}#sk-container-id-12 div.sk-parallel-item:only-child::after {width: 0;}#sk-container-id-12 div.sk-dashed-wrapped {border: 1px dashed gray;margin: 0 0.4em 0.5em 0.4em;box-sizing: border-box;padding-bottom: 0.4em;background-color: white;}#sk-container-id-12 div.sk-label label {font-family: monospace;font-weight: bold;display: inline-block;line-height: 1.2em;}#sk-container-id-12 div.sk-label-container {text-align: center;}#sk-container-id-12 div.sk-container {/* jupyter's `normalize.less` sets `[hidden] { display: none; }` but bootstrap.min.css set `[hidden] { display: none !important; }` so we also need the `!important` here to be able to override the default hidden behavior on the sphinx rendered scikit-learn.org. See: https://github.com/scikit-learn/scikit-learn/issues/21755 */display: inline-block !important;position: relative;}#sk-container-id-12 div.sk-text-repr-fallback {display: none;}</style><div id=\"sk-container-id-12\" class=\"sk-top-container\"><div class=\"sk-text-repr-fallback\"><pre>Pipeline(steps=[(&#x27;preprocessor&#x27;,\n",
              "                 ColumnTransformer(transformers=[(&#x27;categorical&#x27;,\n",
              "                                                  TargetEncoder(),\n",
              "                                                  [&#x27;gender&#x27;, &#x27;age&#x27;,\n",
              "                                                   &#x27;study_years&#x27;, &#x27;cgpa&#x27;,\n",
              "                                                   &#x27;marital_status&#x27;,\n",
              "                                                   &#x27;depression&#x27;, &#x27;anxiety&#x27;,\n",
              "                                                   &#x27;panic_attack&#x27;,\n",
              "                                                   &#x27;seeking_treatment&#x27;])])),\n",
              "                (&#x27;resampling&#x27;, SMOTE(random_state=42)),\n",
              "                (&#x27;forest&#x27;,\n",
              "                 RandomForestClassifier(class_weight=&#x27;balanced&#x27;,\n",
              "                                        random_state=42))])</pre><b>In a Jupyter environment, please rerun this cell to show the HTML representation or trust the notebook. <br />On GitHub, the HTML representation is unable to render, please try loading this page with nbviewer.org.</b></div><div class=\"sk-container\" hidden><div class=\"sk-item sk-dashed-wrapped\"><div class=\"sk-label-container\"><div class=\"sk-label sk-toggleable\"><input class=\"sk-toggleable__control sk-hidden--visually\" id=\"sk-estimator-id-65\" type=\"checkbox\" ><label for=\"sk-estimator-id-65\" class=\"sk-toggleable__label sk-toggleable__label-arrow\">Pipeline</label><div class=\"sk-toggleable__content\"><pre>Pipeline(steps=[(&#x27;preprocessor&#x27;,\n",
              "                 ColumnTransformer(transformers=[(&#x27;categorical&#x27;,\n",
              "                                                  TargetEncoder(),\n",
              "                                                  [&#x27;gender&#x27;, &#x27;age&#x27;,\n",
              "                                                   &#x27;study_years&#x27;, &#x27;cgpa&#x27;,\n",
              "                                                   &#x27;marital_status&#x27;,\n",
              "                                                   &#x27;depression&#x27;, &#x27;anxiety&#x27;,\n",
              "                                                   &#x27;panic_attack&#x27;,\n",
              "                                                   &#x27;seeking_treatment&#x27;])])),\n",
              "                (&#x27;resampling&#x27;, SMOTE(random_state=42)),\n",
              "                (&#x27;forest&#x27;,\n",
              "                 RandomForestClassifier(class_weight=&#x27;balanced&#x27;,\n",
              "                                        random_state=42))])</pre></div></div></div><div class=\"sk-serial\"><div class=\"sk-item sk-dashed-wrapped\"><div class=\"sk-label-container\"><div class=\"sk-label sk-toggleable\"><input class=\"sk-toggleable__control sk-hidden--visually\" id=\"sk-estimator-id-66\" type=\"checkbox\" ><label for=\"sk-estimator-id-66\" class=\"sk-toggleable__label sk-toggleable__label-arrow\">preprocessor: ColumnTransformer</label><div class=\"sk-toggleable__content\"><pre>ColumnTransformer(transformers=[(&#x27;categorical&#x27;, TargetEncoder(),\n",
              "                                 [&#x27;gender&#x27;, &#x27;age&#x27;, &#x27;study_years&#x27;, &#x27;cgpa&#x27;,\n",
              "                                  &#x27;marital_status&#x27;, &#x27;depression&#x27;, &#x27;anxiety&#x27;,\n",
              "                                  &#x27;panic_attack&#x27;, &#x27;seeking_treatment&#x27;])])</pre></div></div></div><div class=\"sk-parallel\"><div class=\"sk-parallel-item\"><div class=\"sk-item\"><div class=\"sk-label-container\"><div class=\"sk-label sk-toggleable\"><input class=\"sk-toggleable__control sk-hidden--visually\" id=\"sk-estimator-id-67\" type=\"checkbox\" ><label for=\"sk-estimator-id-67\" class=\"sk-toggleable__label sk-toggleable__label-arrow\">categorical</label><div class=\"sk-toggleable__content\"><pre>[&#x27;gender&#x27;, &#x27;age&#x27;, &#x27;study_years&#x27;, &#x27;cgpa&#x27;, &#x27;marital_status&#x27;, &#x27;depression&#x27;, &#x27;anxiety&#x27;, &#x27;panic_attack&#x27;, &#x27;seeking_treatment&#x27;]</pre></div></div></div><div class=\"sk-serial\"><div class=\"sk-item\"><div class=\"sk-estimator sk-toggleable\"><input class=\"sk-toggleable__control sk-hidden--visually\" id=\"sk-estimator-id-68\" type=\"checkbox\" ><label for=\"sk-estimator-id-68\" class=\"sk-toggleable__label sk-toggleable__label-arrow\">TargetEncoder</label><div class=\"sk-toggleable__content\"><pre>TargetEncoder()</pre></div></div></div></div></div></div></div></div><div class=\"sk-item\"><div class=\"sk-estimator sk-toggleable\"><input class=\"sk-toggleable__control sk-hidden--visually\" id=\"sk-estimator-id-69\" type=\"checkbox\" ><label for=\"sk-estimator-id-69\" class=\"sk-toggleable__label sk-toggleable__label-arrow\">SMOTE</label><div class=\"sk-toggleable__content\"><pre>SMOTE(random_state=42)</pre></div></div></div><div class=\"sk-item\"><div class=\"sk-estimator sk-toggleable\"><input class=\"sk-toggleable__control sk-hidden--visually\" id=\"sk-estimator-id-70\" type=\"checkbox\" ><label for=\"sk-estimator-id-70\" class=\"sk-toggleable__label sk-toggleable__label-arrow\">RandomForestClassifier</label><div class=\"sk-toggleable__content\"><pre>RandomForestClassifier(class_weight=&#x27;balanced&#x27;, random_state=42)</pre></div></div></div></div></div></div></div>"
            ]
          },
          "metadata": {},
          "execution_count": 162
        }
      ]
    },
    {
      "cell_type": "code",
      "source": [
        "#Random Forest Cross Val\n",
        "f1_forest = cross_val_score(forest_pipe_os, X_train, y_train, cv=cv, scoring='f1_micro')\n",
        "print('Cross Validation Score: ', f1_forest)\n",
        "\n",
        "#get the mean of each fold \n",
        "print(\"Average Cross Validation score:\", f1_forest.mean() * 100)"
      ],
      "metadata": {
        "colab": {
          "base_uri": "https://localhost:8080/"
        },
        "id": "Ien8D7x4xcr9",
        "outputId": "7f9a3f11-8c90-4a36-b433-76be882f0117"
      },
      "execution_count": 163,
      "outputs": [
        {
          "output_type": "stream",
          "name": "stdout",
          "text": [
            "Cross Validation Score:  [1.         0.9375     1.         1.         0.93333333]\n",
            "Average Cross Validation score: 97.41666666666667\n"
          ]
        }
      ]
    },
    {
      "cell_type": "markdown",
      "source": [
        "###**d. Hyperparameter Tuning**"
      ],
      "metadata": {
        "id": "YVkRRfBdGcE8"
      }
    },
    {
      "cell_type": "code",
      "source": [
        "# define the parameters for random forest model's tuned\n",
        "rfr_params = {\n",
        "    'forest__n_estimators': list(np.arange(10, 300)), \n",
        "    'forest__max_depth': list(np.arange(1, 20)),\n",
        "    'forest__min_samples_split': [2, 5, 10],\n",
        "    'forest__min_samples_leaf': [1, 2, 3, 4, 5],\n",
        "    'forest__max_features': ['auto', 'sqrt'],\n",
        "    'forest__bootstrap': [True, False]\n",
        "}\n",
        "\n",
        "Random_Forest_tuned = RandomForestClassifier(random_state=42, class_weight='balanced')\n",
        "forest2_pipe_tuned = Pipeline([\n",
        "    ('preprocessor',preprocessor),\n",
        "    ('resampling', SMOTE(random_state=42)),\n",
        "    ('forest',Random_Forest_tuned)])\n",
        "forest2_pipe_tuned.fit(X_train, y_train)\n",
        "\n",
        "forest_cv = RandomizedSearchCV(forest2_pipe_tuned, rfr_params, scoring=\"f1_micro\", n_jobs=-1, verbose=1, cv=cv)\n",
        "forest_cv.fit(X_train, y_train)\n",
        "print(forest_cv.best_params_)\n",
        "forest_tuned = forest_cv.best_estimator_.fit(X_train, y_train)"
      ],
      "metadata": {
        "colab": {
          "base_uri": "https://localhost:8080/"
        },
        "id": "V7DyF1lnxzn9",
        "outputId": "6cfe258b-78d2-4905-d849-c668ddad0434"
      },
      "execution_count": 165,
      "outputs": [
        {
          "output_type": "stream",
          "name": "stdout",
          "text": [
            "Fitting 5 folds for each of 10 candidates, totalling 50 fits\n",
            "{'forest__n_estimators': 127, 'forest__min_samples_split': 5, 'forest__min_samples_leaf': 1, 'forest__max_features': 'auto', 'forest__max_depth': 14, 'forest__bootstrap': True}\n"
          ]
        }
      ]
    },
    {
      "cell_type": "markdown",
      "source": [
        "###**e. Evaluation Metrics**"
      ],
      "metadata": {
        "id": "Uhmk_P7o_qNe"
      }
    },
    {
      "cell_type": "code",
      "source": [
        "def evaluation_metrics_f1_score_train(model, X_train, y_train):\n",
        "    prediction = model.predict(X_train)\n",
        "    f1_micro_score = f1_score(y_train, prediction, average='micro')\n",
        "    print(f'f1_micro_score : {round(f1_micro_score, 3)}')\n",
        "    val = dict()\n",
        "    val['f1_micro_score'] = f1_micro_score.mean() * 100\n",
        "    return val"
      ],
      "metadata": {
        "id": "n0yiAHjOM6Pb"
      },
      "execution_count": 166,
      "outputs": []
    },
    {
      "cell_type": "code",
      "source": [
        "def evaluation_metrics_f1_score_test(model, X_test, y_test):\n",
        "    prediction = model.predict(X_test)\n",
        "    f1_micro_score = f1_score(y_test, prediction, average='micro')\n",
        "    print(f'f1_micro_score : {round(f1_micro_score, 3)}')\n",
        "    val = dict()\n",
        "    val['f1-micro'] = f1_micro_score.mean() * 100\n",
        "    return val"
      ],
      "metadata": {
        "id": "4GmJJrPuzbPQ"
      },
      "execution_count": 167,
      "outputs": []
    },
    {
      "cell_type": "code",
      "source": [
        "def evaluation_metrics_roc_auc_train(model, X_train, y_train):\n",
        "    prediction = model.predict_proba(X_train)\n",
        "    roc_auc = roc_auc_score(y_train, prediction, multi_class='ovo')\n",
        "    print(f'roc_auc: {round(roc_auc, 3)}')\n",
        "    val = dict()\n",
        "    val['roc_auc'] = roc_auc.mean() * 100\n",
        "    return val"
      ],
      "metadata": {
        "id": "-J1lWKnE9iPH"
      },
      "execution_count": 168,
      "outputs": []
    },
    {
      "cell_type": "code",
      "source": [
        "def evaluation_metrics_roc_auc_test(model, X_test, y_test):\n",
        "    prediction = model.predict_proba(X_test)\n",
        "    roc_auc = roc_auc_score(y_test, prediction, multi_class='ovo')\n",
        "    print(f'roc_auc: {round(roc_auc, 3)}')\n",
        "    val = dict()\n",
        "    val['roc_auc'] = roc_auc.mean() * 100\n",
        "    return val"
      ],
      "metadata": {
        "id": "XQSZ3Z806v5M"
      },
      "execution_count": 169,
      "outputs": []
    },
    {
      "cell_type": "code",
      "source": [
        "evaluation_metrics_roc_auc_train(forest_tuned, X_train, y_train)"
      ],
      "metadata": {
        "colab": {
          "base_uri": "https://localhost:8080/"
        },
        "id": "LDcFYto37BnA",
        "outputId": "ddc59f28-ed95-4bd1-e984-764aa0346543"
      },
      "execution_count": 170,
      "outputs": [
        {
          "output_type": "stream",
          "name": "stdout",
          "text": [
            "roc_auc: 1.0\n"
          ]
        },
        {
          "output_type": "execute_result",
          "data": {
            "text/plain": [
              "{'roc_auc': 100.0}"
            ]
          },
          "metadata": {},
          "execution_count": 170
        }
      ]
    },
    {
      "cell_type": "code",
      "source": [
        "evaluation_metrics_roc_auc_test(forest_tuned, X_test, y_test)"
      ],
      "metadata": {
        "colab": {
          "base_uri": "https://localhost:8080/"
        },
        "id": "qpJEeXVx92cR",
        "outputId": "6d252f2c-c8ec-44e5-88e8-e78cca108a69"
      },
      "execution_count": 171,
      "outputs": [
        {
          "output_type": "stream",
          "name": "stdout",
          "text": [
            "roc_auc: 1.0\n"
          ]
        },
        {
          "output_type": "execute_result",
          "data": {
            "text/plain": [
              "{'roc_auc': 100.0}"
            ]
          },
          "metadata": {},
          "execution_count": 171
        }
      ]
    },
    {
      "cell_type": "code",
      "source": [
        "evaluation_metrics_f1_score_train(forest_tuned, X_train, y_train)"
      ],
      "metadata": {
        "colab": {
          "base_uri": "https://localhost:8080/"
        },
        "id": "6E9NsofYNB_N",
        "outputId": "62e1bd82-d6c3-4139-98c3-e4da33dcd6e0"
      },
      "execution_count": 172,
      "outputs": [
        {
          "output_type": "stream",
          "name": "stdout",
          "text": [
            "f1_micro_score : 1.0\n"
          ]
        },
        {
          "output_type": "execute_result",
          "data": {
            "text/plain": [
              "{'f1_micro_score': 100.0}"
            ]
          },
          "metadata": {},
          "execution_count": 172
        }
      ]
    },
    {
      "cell_type": "code",
      "source": [
        "evaluation_metrics_f1_score_test(forest_tuned, X_test, y_test)"
      ],
      "metadata": {
        "colab": {
          "base_uri": "https://localhost:8080/"
        },
        "id": "QjUSfo6_0hu3",
        "outputId": "d11f6737-f45d-41aa-eafd-21afe1d42709"
      },
      "execution_count": 173,
      "outputs": [
        {
          "output_type": "stream",
          "name": "stdout",
          "text": [
            "f1_micro_score : 1.0\n"
          ]
        },
        {
          "output_type": "execute_result",
          "data": {
            "text/plain": [
              "{'f1-micro': 100.0}"
            ]
          },
          "metadata": {},
          "execution_count": 173
        }
      ]
    },
    {
      "cell_type": "markdown",
      "source": [
        "##**5.Deployment**"
      ],
      "metadata": {
        "id": "3xYwSRkuHJQ4"
      }
    },
    {
      "cell_type": "markdown",
      "source": [
        "###**a. Save Best Model ML with pickle**"
      ],
      "metadata": {
        "id": "wL2HginyHQWV"
      }
    },
    {
      "cell_type": "code",
      "source": [
        "import pickle"
      ],
      "metadata": {
        "id": "-ntHVvlB1IfS"
      },
      "execution_count": 61,
      "outputs": []
    },
    {
      "cell_type": "code",
      "source": [
        "pickle.dump(forest_tuned,open('random_forest_fix_tuned.pkl','wb'))"
      ],
      "metadata": {
        "id": "8JfSQO8313KO"
      },
      "execution_count": 62,
      "outputs": []
    },
    {
      "cell_type": "markdown",
      "source": [
        "###**b.Load Best Model ML for Model Inference**"
      ],
      "metadata": {
        "id": "3x7k76FEHYoT"
      }
    },
    {
      "cell_type": "code",
      "source": [
        "model = pickle.load(open('random_forest_fix_tuned.pkl','rb'))\n",
        "model"
      ],
      "metadata": {
        "colab": {
          "base_uri": "https://localhost:8080/",
          "height": 227
        },
        "id": "Z_5ZSKyj2O8p",
        "outputId": "789beba5-51c9-4d40-e92f-42e4ff4f2972"
      },
      "execution_count": 63,
      "outputs": [
        {
          "output_type": "execute_result",
          "data": {
            "text/plain": [
              "Pipeline(steps=[('preprocessor',\n",
              "                 ColumnTransformer(transformers=[('categorical',\n",
              "                                                  TargetEncoder(),\n",
              "                                                  ['gender', 'age',\n",
              "                                                   'study_years', 'cgpa',\n",
              "                                                   'marital_status',\n",
              "                                                   'depression', 'anxiety',\n",
              "                                                   'panic_attack',\n",
              "                                                   'seeking_treatment'])])),\n",
              "                ('resampling', SMOTE()),\n",
              "                ('forest',\n",
              "                 RandomForestClassifier(bootstrap=False,\n",
              "                                        class_weight='balanced', max_depth=19,\n",
              "                                        max_features='auto',\n",
              "                                        min_samples_split=10, n_estimators=276,\n",
              "                                        random_state=42))])"
            ],
            "text/html": [
              "<style>#sk-container-id-3 {color: black;background-color: white;}#sk-container-id-3 pre{padding: 0;}#sk-container-id-3 div.sk-toggleable {background-color: white;}#sk-container-id-3 label.sk-toggleable__label {cursor: pointer;display: block;width: 100%;margin-bottom: 0;padding: 0.3em;box-sizing: border-box;text-align: center;}#sk-container-id-3 label.sk-toggleable__label-arrow:before {content: \"▸\";float: left;margin-right: 0.25em;color: #696969;}#sk-container-id-3 label.sk-toggleable__label-arrow:hover:before {color: black;}#sk-container-id-3 div.sk-estimator:hover label.sk-toggleable__label-arrow:before {color: black;}#sk-container-id-3 div.sk-toggleable__content {max-height: 0;max-width: 0;overflow: hidden;text-align: left;background-color: #f0f8ff;}#sk-container-id-3 div.sk-toggleable__content pre {margin: 0.2em;color: black;border-radius: 0.25em;background-color: #f0f8ff;}#sk-container-id-3 input.sk-toggleable__control:checked~div.sk-toggleable__content {max-height: 200px;max-width: 100%;overflow: auto;}#sk-container-id-3 input.sk-toggleable__control:checked~label.sk-toggleable__label-arrow:before {content: \"▾\";}#sk-container-id-3 div.sk-estimator input.sk-toggleable__control:checked~label.sk-toggleable__label {background-color: #d4ebff;}#sk-container-id-3 div.sk-label input.sk-toggleable__control:checked~label.sk-toggleable__label {background-color: #d4ebff;}#sk-container-id-3 input.sk-hidden--visually {border: 0;clip: rect(1px 1px 1px 1px);clip: rect(1px, 1px, 1px, 1px);height: 1px;margin: -1px;overflow: hidden;padding: 0;position: absolute;width: 1px;}#sk-container-id-3 div.sk-estimator {font-family: monospace;background-color: #f0f8ff;border: 1px dotted black;border-radius: 0.25em;box-sizing: border-box;margin-bottom: 0.5em;}#sk-container-id-3 div.sk-estimator:hover {background-color: #d4ebff;}#sk-container-id-3 div.sk-parallel-item::after {content: \"\";width: 100%;border-bottom: 1px solid gray;flex-grow: 1;}#sk-container-id-3 div.sk-label:hover label.sk-toggleable__label {background-color: #d4ebff;}#sk-container-id-3 div.sk-serial::before {content: \"\";position: absolute;border-left: 1px solid gray;box-sizing: border-box;top: 0;bottom: 0;left: 50%;z-index: 0;}#sk-container-id-3 div.sk-serial {display: flex;flex-direction: column;align-items: center;background-color: white;padding-right: 0.2em;padding-left: 0.2em;position: relative;}#sk-container-id-3 div.sk-item {position: relative;z-index: 1;}#sk-container-id-3 div.sk-parallel {display: flex;align-items: stretch;justify-content: center;background-color: white;position: relative;}#sk-container-id-3 div.sk-item::before, #sk-container-id-3 div.sk-parallel-item::before {content: \"\";position: absolute;border-left: 1px solid gray;box-sizing: border-box;top: 0;bottom: 0;left: 50%;z-index: -1;}#sk-container-id-3 div.sk-parallel-item {display: flex;flex-direction: column;z-index: 1;position: relative;background-color: white;}#sk-container-id-3 div.sk-parallel-item:first-child::after {align-self: flex-end;width: 50%;}#sk-container-id-3 div.sk-parallel-item:last-child::after {align-self: flex-start;width: 50%;}#sk-container-id-3 div.sk-parallel-item:only-child::after {width: 0;}#sk-container-id-3 div.sk-dashed-wrapped {border: 1px dashed gray;margin: 0 0.4em 0.5em 0.4em;box-sizing: border-box;padding-bottom: 0.4em;background-color: white;}#sk-container-id-3 div.sk-label label {font-family: monospace;font-weight: bold;display: inline-block;line-height: 1.2em;}#sk-container-id-3 div.sk-label-container {text-align: center;}#sk-container-id-3 div.sk-container {/* jupyter's `normalize.less` sets `[hidden] { display: none; }` but bootstrap.min.css set `[hidden] { display: none !important; }` so we also need the `!important` here to be able to override the default hidden behavior on the sphinx rendered scikit-learn.org. See: https://github.com/scikit-learn/scikit-learn/issues/21755 */display: inline-block !important;position: relative;}#sk-container-id-3 div.sk-text-repr-fallback {display: none;}</style><div id=\"sk-container-id-3\" class=\"sk-top-container\"><div class=\"sk-text-repr-fallback\"><pre>Pipeline(steps=[(&#x27;preprocessor&#x27;,\n",
              "                 ColumnTransformer(transformers=[(&#x27;categorical&#x27;,\n",
              "                                                  TargetEncoder(),\n",
              "                                                  [&#x27;gender&#x27;, &#x27;age&#x27;,\n",
              "                                                   &#x27;study_years&#x27;, &#x27;cgpa&#x27;,\n",
              "                                                   &#x27;marital_status&#x27;,\n",
              "                                                   &#x27;depression&#x27;, &#x27;anxiety&#x27;,\n",
              "                                                   &#x27;panic_attack&#x27;,\n",
              "                                                   &#x27;seeking_treatment&#x27;])])),\n",
              "                (&#x27;resampling&#x27;, SMOTE()),\n",
              "                (&#x27;forest&#x27;,\n",
              "                 RandomForestClassifier(bootstrap=False,\n",
              "                                        class_weight=&#x27;balanced&#x27;, max_depth=19,\n",
              "                                        max_features=&#x27;auto&#x27;,\n",
              "                                        min_samples_split=10, n_estimators=276,\n",
              "                                        random_state=42))])</pre><b>In a Jupyter environment, please rerun this cell to show the HTML representation or trust the notebook. <br />On GitHub, the HTML representation is unable to render, please try loading this page with nbviewer.org.</b></div><div class=\"sk-container\" hidden><div class=\"sk-item sk-dashed-wrapped\"><div class=\"sk-label-container\"><div class=\"sk-label sk-toggleable\"><input class=\"sk-toggleable__control sk-hidden--visually\" id=\"sk-estimator-id-12\" type=\"checkbox\" ><label for=\"sk-estimator-id-12\" class=\"sk-toggleable__label sk-toggleable__label-arrow\">Pipeline</label><div class=\"sk-toggleable__content\"><pre>Pipeline(steps=[(&#x27;preprocessor&#x27;,\n",
              "                 ColumnTransformer(transformers=[(&#x27;categorical&#x27;,\n",
              "                                                  TargetEncoder(),\n",
              "                                                  [&#x27;gender&#x27;, &#x27;age&#x27;,\n",
              "                                                   &#x27;study_years&#x27;, &#x27;cgpa&#x27;,\n",
              "                                                   &#x27;marital_status&#x27;,\n",
              "                                                   &#x27;depression&#x27;, &#x27;anxiety&#x27;,\n",
              "                                                   &#x27;panic_attack&#x27;,\n",
              "                                                   &#x27;seeking_treatment&#x27;])])),\n",
              "                (&#x27;resampling&#x27;, SMOTE()),\n",
              "                (&#x27;forest&#x27;,\n",
              "                 RandomForestClassifier(bootstrap=False,\n",
              "                                        class_weight=&#x27;balanced&#x27;, max_depth=19,\n",
              "                                        max_features=&#x27;auto&#x27;,\n",
              "                                        min_samples_split=10, n_estimators=276,\n",
              "                                        random_state=42))])</pre></div></div></div><div class=\"sk-serial\"><div class=\"sk-item sk-dashed-wrapped\"><div class=\"sk-label-container\"><div class=\"sk-label sk-toggleable\"><input class=\"sk-toggleable__control sk-hidden--visually\" id=\"sk-estimator-id-13\" type=\"checkbox\" ><label for=\"sk-estimator-id-13\" class=\"sk-toggleable__label sk-toggleable__label-arrow\">preprocessor: ColumnTransformer</label><div class=\"sk-toggleable__content\"><pre>ColumnTransformer(transformers=[(&#x27;categorical&#x27;, TargetEncoder(),\n",
              "                                 [&#x27;gender&#x27;, &#x27;age&#x27;, &#x27;study_years&#x27;, &#x27;cgpa&#x27;,\n",
              "                                  &#x27;marital_status&#x27;, &#x27;depression&#x27;, &#x27;anxiety&#x27;,\n",
              "                                  &#x27;panic_attack&#x27;, &#x27;seeking_treatment&#x27;])])</pre></div></div></div><div class=\"sk-parallel\"><div class=\"sk-parallel-item\"><div class=\"sk-item\"><div class=\"sk-label-container\"><div class=\"sk-label sk-toggleable\"><input class=\"sk-toggleable__control sk-hidden--visually\" id=\"sk-estimator-id-14\" type=\"checkbox\" ><label for=\"sk-estimator-id-14\" class=\"sk-toggleable__label sk-toggleable__label-arrow\">categorical</label><div class=\"sk-toggleable__content\"><pre>[&#x27;gender&#x27;, &#x27;age&#x27;, &#x27;study_years&#x27;, &#x27;cgpa&#x27;, &#x27;marital_status&#x27;, &#x27;depression&#x27;, &#x27;anxiety&#x27;, &#x27;panic_attack&#x27;, &#x27;seeking_treatment&#x27;]</pre></div></div></div><div class=\"sk-serial\"><div class=\"sk-item\"><div class=\"sk-estimator sk-toggleable\"><input class=\"sk-toggleable__control sk-hidden--visually\" id=\"sk-estimator-id-15\" type=\"checkbox\" ><label for=\"sk-estimator-id-15\" class=\"sk-toggleable__label sk-toggleable__label-arrow\">TargetEncoder</label><div class=\"sk-toggleable__content\"><pre>TargetEncoder()</pre></div></div></div></div></div></div></div></div><div class=\"sk-item\"><div class=\"sk-estimator sk-toggleable\"><input class=\"sk-toggleable__control sk-hidden--visually\" id=\"sk-estimator-id-16\" type=\"checkbox\" ><label for=\"sk-estimator-id-16\" class=\"sk-toggleable__label sk-toggleable__label-arrow\">SMOTE</label><div class=\"sk-toggleable__content\"><pre>SMOTE()</pre></div></div></div><div class=\"sk-item\"><div class=\"sk-estimator sk-toggleable\"><input class=\"sk-toggleable__control sk-hidden--visually\" id=\"sk-estimator-id-17\" type=\"checkbox\" ><label for=\"sk-estimator-id-17\" class=\"sk-toggleable__label sk-toggleable__label-arrow\">RandomForestClassifier</label><div class=\"sk-toggleable__content\"><pre>RandomForestClassifier(bootstrap=False, class_weight=&#x27;balanced&#x27;, max_depth=19,\n",
              "                       max_features=&#x27;auto&#x27;, min_samples_split=10,\n",
              "                       n_estimators=276, random_state=42)</pre></div></div></div></div></div></div></div>"
            ]
          },
          "metadata": {},
          "execution_count": 63
        }
      ]
    },
    {
      "cell_type": "code",
      "source": [
        "new_data = [{'gender': 'male',\n",
        "             'age': '20_thn',\n",
        "             'study_years': 'year_4',\n",
        "             'cgpa':'3.50 - 4.00',\n",
        "             'marital_status': 'no',\n",
        "             'depression': 'yes',\n",
        "             'anxiety': 'yes',\n",
        "             'panic_attack': 'yes',\n",
        "             'seeking_treatment': 'no' }\n",
        "             ]\n",
        "\n",
        "data_testing1= pd.DataFrame(new_data,index=[0])\n",
        "data_testing1"
      ],
      "metadata": {
        "colab": {
          "base_uri": "https://localhost:8080/",
          "height": 81
        },
        "id": "IQi6O4d22jVT",
        "outputId": "0894839c-99fb-4870-be94-42850dce2a8e"
      },
      "execution_count": 64,
      "outputs": [
        {
          "output_type": "execute_result",
          "data": {
            "text/plain": [
              "  gender     age study_years         cgpa marital_status depression anxiety  \\\n",
              "0   male  20_thn      year_4  3.50 - 4.00             no        yes     yes   \n",
              "\n",
              "  panic_attack seeking_treatment  \n",
              "0          yes                no  "
            ],
            "text/html": [
              "\n",
              "  <div id=\"df-b02a87d8-c4e0-4eed-ae76-4f079c4ca247\">\n",
              "    <div class=\"colab-df-container\">\n",
              "      <div>\n",
              "<style scoped>\n",
              "    .dataframe tbody tr th:only-of-type {\n",
              "        vertical-align: middle;\n",
              "    }\n",
              "\n",
              "    .dataframe tbody tr th {\n",
              "        vertical-align: top;\n",
              "    }\n",
              "\n",
              "    .dataframe thead th {\n",
              "        text-align: right;\n",
              "    }\n",
              "</style>\n",
              "<table border=\"1\" class=\"dataframe\">\n",
              "  <thead>\n",
              "    <tr style=\"text-align: right;\">\n",
              "      <th></th>\n",
              "      <th>gender</th>\n",
              "      <th>age</th>\n",
              "      <th>study_years</th>\n",
              "      <th>cgpa</th>\n",
              "      <th>marital_status</th>\n",
              "      <th>depression</th>\n",
              "      <th>anxiety</th>\n",
              "      <th>panic_attack</th>\n",
              "      <th>seeking_treatment</th>\n",
              "    </tr>\n",
              "  </thead>\n",
              "  <tbody>\n",
              "    <tr>\n",
              "      <th>0</th>\n",
              "      <td>male</td>\n",
              "      <td>20_thn</td>\n",
              "      <td>year_4</td>\n",
              "      <td>3.50 - 4.00</td>\n",
              "      <td>no</td>\n",
              "      <td>yes</td>\n",
              "      <td>yes</td>\n",
              "      <td>yes</td>\n",
              "      <td>no</td>\n",
              "    </tr>\n",
              "  </tbody>\n",
              "</table>\n",
              "</div>\n",
              "      <button class=\"colab-df-convert\" onclick=\"convertToInteractive('df-b02a87d8-c4e0-4eed-ae76-4f079c4ca247')\"\n",
              "              title=\"Convert this dataframe to an interactive table.\"\n",
              "              style=\"display:none;\">\n",
              "        \n",
              "  <svg xmlns=\"http://www.w3.org/2000/svg\" height=\"24px\"viewBox=\"0 0 24 24\"\n",
              "       width=\"24px\">\n",
              "    <path d=\"M0 0h24v24H0V0z\" fill=\"none\"/>\n",
              "    <path d=\"M18.56 5.44l.94 2.06.94-2.06 2.06-.94-2.06-.94-.94-2.06-.94 2.06-2.06.94zm-11 1L8.5 8.5l.94-2.06 2.06-.94-2.06-.94L8.5 2.5l-.94 2.06-2.06.94zm10 10l.94 2.06.94-2.06 2.06-.94-2.06-.94-.94-2.06-.94 2.06-2.06.94z\"/><path d=\"M17.41 7.96l-1.37-1.37c-.4-.4-.92-.59-1.43-.59-.52 0-1.04.2-1.43.59L10.3 9.45l-7.72 7.72c-.78.78-.78 2.05 0 2.83L4 21.41c.39.39.9.59 1.41.59.51 0 1.02-.2 1.41-.59l7.78-7.78 2.81-2.81c.8-.78.8-2.07 0-2.86zM5.41 20L4 18.59l7.72-7.72 1.47 1.35L5.41 20z\"/>\n",
              "  </svg>\n",
              "      </button>\n",
              "      \n",
              "  <style>\n",
              "    .colab-df-container {\n",
              "      display:flex;\n",
              "      flex-wrap:wrap;\n",
              "      gap: 12px;\n",
              "    }\n",
              "\n",
              "    .colab-df-convert {\n",
              "      background-color: #E8F0FE;\n",
              "      border: none;\n",
              "      border-radius: 50%;\n",
              "      cursor: pointer;\n",
              "      display: none;\n",
              "      fill: #1967D2;\n",
              "      height: 32px;\n",
              "      padding: 0 0 0 0;\n",
              "      width: 32px;\n",
              "    }\n",
              "\n",
              "    .colab-df-convert:hover {\n",
              "      background-color: #E2EBFA;\n",
              "      box-shadow: 0px 1px 2px rgba(60, 64, 67, 0.3), 0px 1px 3px 1px rgba(60, 64, 67, 0.15);\n",
              "      fill: #174EA6;\n",
              "    }\n",
              "\n",
              "    [theme=dark] .colab-df-convert {\n",
              "      background-color: #3B4455;\n",
              "      fill: #D2E3FC;\n",
              "    }\n",
              "\n",
              "    [theme=dark] .colab-df-convert:hover {\n",
              "      background-color: #434B5C;\n",
              "      box-shadow: 0px 1px 3px 1px rgba(0, 0, 0, 0.15);\n",
              "      filter: drop-shadow(0px 1px 2px rgba(0, 0, 0, 0.3));\n",
              "      fill: #FFFFFF;\n",
              "    }\n",
              "  </style>\n",
              "\n",
              "      <script>\n",
              "        const buttonEl =\n",
              "          document.querySelector('#df-b02a87d8-c4e0-4eed-ae76-4f079c4ca247 button.colab-df-convert');\n",
              "        buttonEl.style.display =\n",
              "          google.colab.kernel.accessAllowed ? 'block' : 'none';\n",
              "\n",
              "        async function convertToInteractive(key) {\n",
              "          const element = document.querySelector('#df-b02a87d8-c4e0-4eed-ae76-4f079c4ca247');\n",
              "          const dataTable =\n",
              "            await google.colab.kernel.invokeFunction('convertToInteractive',\n",
              "                                                     [key], {});\n",
              "          if (!dataTable) return;\n",
              "\n",
              "          const docLinkHtml = 'Like what you see? Visit the ' +\n",
              "            '<a target=\"_blank\" href=https://colab.research.google.com/notebooks/data_table.ipynb>data table notebook</a>'\n",
              "            + ' to learn more about interactive tables.';\n",
              "          element.innerHTML = '';\n",
              "          dataTable['output_type'] = 'display_data';\n",
              "          await google.colab.output.renderOutput(dataTable, element);\n",
              "          const docLink = document.createElement('div');\n",
              "          docLink.innerHTML = docLinkHtml;\n",
              "          element.appendChild(docLink);\n",
              "        }\n",
              "      </script>\n",
              "    </div>\n",
              "  </div>\n",
              "  "
            ]
          },
          "metadata": {},
          "execution_count": 64
        }
      ]
    },
    {
      "cell_type": "code",
      "source": [
        "pred = model.predict(data_testing1)"
      ],
      "metadata": {
        "id": "PCu80eTF7CcI"
      },
      "execution_count": 65,
      "outputs": []
    },
    {
      "cell_type": "code",
      "source": [
        "def prediction(pred):\n",
        "    if pred[0]==0:\n",
        "        return \"Kondisi masalah kesehatan mental = Normal\"\n",
        "    elif pred[0]==1:\n",
        "        return \"Kondisi masalah kesehatan mental = Mild (Ringan)\"\n",
        "    elif pred[0]==2:\n",
        "        return \"Kondisi masalah kesehatan mental = Moderate (Sedang)\"\n",
        "    elif pred[0]==3:\n",
        "        return \"Kondisi masalah kesehatan mental = Severe (Berat)\"\n",
        "    else:\n",
        "        return pred"
      ],
      "metadata": {
        "id": "dbVeiF7C8NCN"
      },
      "execution_count": 66,
      "outputs": []
    },
    {
      "cell_type": "code",
      "source": [
        "prediction(pred)"
      ],
      "metadata": {
        "colab": {
          "base_uri": "https://localhost:8080/",
          "height": 35
        },
        "id": "VQ6uP3-l_LyK",
        "outputId": "b3518fb2-5e43-49bc-af36-18b13f4ff4c4"
      },
      "execution_count": 67,
      "outputs": [
        {
          "output_type": "execute_result",
          "data": {
            "text/plain": [
              "'Kondisi masalah kesehatan mental = Severe (Berat)'"
            ],
            "application/vnd.google.colaboratory.intrinsic+json": {
              "type": "string"
            }
          },
          "metadata": {},
          "execution_count": 67
        }
      ]
    },
    {
      "cell_type": "code",
      "source": [
        "new_data = [{'gender': 'male',\n",
        "             'age': '18_thn',\n",
        "             'study_years': 'year_1',\n",
        "             'cgpa':'3.00 - 3.49',\n",
        "             'marital_status': 'no',\n",
        "             'depression': 'yes',\n",
        "             'anxiety': 'no',\n",
        "             'panic_attack': 'yes',\n",
        "             'seeking_treatment': 'yes' }\n",
        "             ]\n",
        "\n",
        "data_testing2= pd.DataFrame(new_data,index=[0])\n",
        "data_testing2"
      ],
      "metadata": {
        "colab": {
          "base_uri": "https://localhost:8080/",
          "height": 81
        },
        "id": "SYaFW750_S9H",
        "outputId": "794bd272-72b3-4a45-c525-7a81d74762ab"
      },
      "execution_count": 81,
      "outputs": [
        {
          "output_type": "execute_result",
          "data": {
            "text/plain": [
              "  gender     age study_years         cgpa marital_status depression anxiety  \\\n",
              "0   male  18_thn      year_1  3.00 - 3.49             no        yes      no   \n",
              "\n",
              "  panic_attack seeking_treatment  \n",
              "0          yes               yes  "
            ],
            "text/html": [
              "\n",
              "  <div id=\"df-fb6e3b24-a60d-4ff9-8025-522bb55ecd6e\">\n",
              "    <div class=\"colab-df-container\">\n",
              "      <div>\n",
              "<style scoped>\n",
              "    .dataframe tbody tr th:only-of-type {\n",
              "        vertical-align: middle;\n",
              "    }\n",
              "\n",
              "    .dataframe tbody tr th {\n",
              "        vertical-align: top;\n",
              "    }\n",
              "\n",
              "    .dataframe thead th {\n",
              "        text-align: right;\n",
              "    }\n",
              "</style>\n",
              "<table border=\"1\" class=\"dataframe\">\n",
              "  <thead>\n",
              "    <tr style=\"text-align: right;\">\n",
              "      <th></th>\n",
              "      <th>gender</th>\n",
              "      <th>age</th>\n",
              "      <th>study_years</th>\n",
              "      <th>cgpa</th>\n",
              "      <th>marital_status</th>\n",
              "      <th>depression</th>\n",
              "      <th>anxiety</th>\n",
              "      <th>panic_attack</th>\n",
              "      <th>seeking_treatment</th>\n",
              "    </tr>\n",
              "  </thead>\n",
              "  <tbody>\n",
              "    <tr>\n",
              "      <th>0</th>\n",
              "      <td>male</td>\n",
              "      <td>18_thn</td>\n",
              "      <td>year_1</td>\n",
              "      <td>3.00 - 3.49</td>\n",
              "      <td>no</td>\n",
              "      <td>yes</td>\n",
              "      <td>no</td>\n",
              "      <td>yes</td>\n",
              "      <td>yes</td>\n",
              "    </tr>\n",
              "  </tbody>\n",
              "</table>\n",
              "</div>\n",
              "      <button class=\"colab-df-convert\" onclick=\"convertToInteractive('df-fb6e3b24-a60d-4ff9-8025-522bb55ecd6e')\"\n",
              "              title=\"Convert this dataframe to an interactive table.\"\n",
              "              style=\"display:none;\">\n",
              "        \n",
              "  <svg xmlns=\"http://www.w3.org/2000/svg\" height=\"24px\"viewBox=\"0 0 24 24\"\n",
              "       width=\"24px\">\n",
              "    <path d=\"M0 0h24v24H0V0z\" fill=\"none\"/>\n",
              "    <path d=\"M18.56 5.44l.94 2.06.94-2.06 2.06-.94-2.06-.94-.94-2.06-.94 2.06-2.06.94zm-11 1L8.5 8.5l.94-2.06 2.06-.94-2.06-.94L8.5 2.5l-.94 2.06-2.06.94zm10 10l.94 2.06.94-2.06 2.06-.94-2.06-.94-.94-2.06-.94 2.06-2.06.94z\"/><path d=\"M17.41 7.96l-1.37-1.37c-.4-.4-.92-.59-1.43-.59-.52 0-1.04.2-1.43.59L10.3 9.45l-7.72 7.72c-.78.78-.78 2.05 0 2.83L4 21.41c.39.39.9.59 1.41.59.51 0 1.02-.2 1.41-.59l7.78-7.78 2.81-2.81c.8-.78.8-2.07 0-2.86zM5.41 20L4 18.59l7.72-7.72 1.47 1.35L5.41 20z\"/>\n",
              "  </svg>\n",
              "      </button>\n",
              "      \n",
              "  <style>\n",
              "    .colab-df-container {\n",
              "      display:flex;\n",
              "      flex-wrap:wrap;\n",
              "      gap: 12px;\n",
              "    }\n",
              "\n",
              "    .colab-df-convert {\n",
              "      background-color: #E8F0FE;\n",
              "      border: none;\n",
              "      border-radius: 50%;\n",
              "      cursor: pointer;\n",
              "      display: none;\n",
              "      fill: #1967D2;\n",
              "      height: 32px;\n",
              "      padding: 0 0 0 0;\n",
              "      width: 32px;\n",
              "    }\n",
              "\n",
              "    .colab-df-convert:hover {\n",
              "      background-color: #E2EBFA;\n",
              "      box-shadow: 0px 1px 2px rgba(60, 64, 67, 0.3), 0px 1px 3px 1px rgba(60, 64, 67, 0.15);\n",
              "      fill: #174EA6;\n",
              "    }\n",
              "\n",
              "    [theme=dark] .colab-df-convert {\n",
              "      background-color: #3B4455;\n",
              "      fill: #D2E3FC;\n",
              "    }\n",
              "\n",
              "    [theme=dark] .colab-df-convert:hover {\n",
              "      background-color: #434B5C;\n",
              "      box-shadow: 0px 1px 3px 1px rgba(0, 0, 0, 0.15);\n",
              "      filter: drop-shadow(0px 1px 2px rgba(0, 0, 0, 0.3));\n",
              "      fill: #FFFFFF;\n",
              "    }\n",
              "  </style>\n",
              "\n",
              "      <script>\n",
              "        const buttonEl =\n",
              "          document.querySelector('#df-fb6e3b24-a60d-4ff9-8025-522bb55ecd6e button.colab-df-convert');\n",
              "        buttonEl.style.display =\n",
              "          google.colab.kernel.accessAllowed ? 'block' : 'none';\n",
              "\n",
              "        async function convertToInteractive(key) {\n",
              "          const element = document.querySelector('#df-fb6e3b24-a60d-4ff9-8025-522bb55ecd6e');\n",
              "          const dataTable =\n",
              "            await google.colab.kernel.invokeFunction('convertToInteractive',\n",
              "                                                     [key], {});\n",
              "          if (!dataTable) return;\n",
              "\n",
              "          const docLinkHtml = 'Like what you see? Visit the ' +\n",
              "            '<a target=\"_blank\" href=https://colab.research.google.com/notebooks/data_table.ipynb>data table notebook</a>'\n",
              "            + ' to learn more about interactive tables.';\n",
              "          element.innerHTML = '';\n",
              "          dataTable['output_type'] = 'display_data';\n",
              "          await google.colab.output.renderOutput(dataTable, element);\n",
              "          const docLink = document.createElement('div');\n",
              "          docLink.innerHTML = docLinkHtml;\n",
              "          element.appendChild(docLink);\n",
              "        }\n",
              "      </script>\n",
              "    </div>\n",
              "  </div>\n",
              "  "
            ]
          },
          "metadata": {},
          "execution_count": 81
        }
      ]
    },
    {
      "cell_type": "code",
      "source": [
        "pred = model.predict(data_testing2)"
      ],
      "metadata": {
        "id": "ksc1gNN-_tLV"
      },
      "execution_count": 82,
      "outputs": []
    },
    {
      "cell_type": "code",
      "source": [
        "prediction(pred)"
      ],
      "metadata": {
        "colab": {
          "base_uri": "https://localhost:8080/",
          "height": 35
        },
        "id": "LINfmZ6F_xTu",
        "outputId": "c07f3722-5589-4b55-afa5-706b92dfeaa1"
      },
      "execution_count": 83,
      "outputs": [
        {
          "output_type": "execute_result",
          "data": {
            "text/plain": [
              "'Kondisi masalah kesehatan mental = Moderate (Sedang)'"
            ],
            "application/vnd.google.colaboratory.intrinsic+json": {
              "type": "string"
            }
          },
          "metadata": {},
          "execution_count": 83
        }
      ]
    },
    {
      "cell_type": "markdown",
      "source": [
        "##**6. Conclusion**"
      ],
      "metadata": {
        "id": "nCC0HPmCIG5s"
      }
    },
    {
      "cell_type": "markdown",
      "source": [
        ">Evaluasi Model:\n",
        "- Karena menggunakan small dataset, model dapat dengan mudah memprediksi label/target berdasarkan multiple class yang ada (0: normal, 1: mild, 2: moderate, 3: severe). \n",
        "- Tantangannya disini menggunakan small dataset + imbalance dataset, yang kebanyakan kasus perlu ditangani menggunakan teknik resampling baik SMOTE atau class weight agar tidak menimbulkan bias bagi model saat memprediksi, sehingga dapat memprediksi sesuai dengan proporsi bobot kelas target.\n",
        "- Metrik evaluasi yang cocok digunakan yaitu f1_score karena lebih sensitif terhadap kelas minoritas, sebab sampel data yang tidak seimbang antar kelas pada label (imbalance dataset).\n",
        "- Model mendapatkan f1-score/roc-auc score = 1.0 (before tuning) dan 1.0 (after tuning), walaupun dapat dikatakan memiliki performa yang baik dalam memprediksi target, akan tetapi perlu diingat bahwa terkadang dataset yang kecil membuat model memiliki kecenderungan overfit. Dengan melakukan hyperparameter tuning pada model diharapkan model menjadi lebih mendekati fit. dari kasus disini, terlihat bahwa model dengan sempurna dapat memprediksi label dengan tingkat kesalahan 0%. ini karena model dengan sangat mudah menangkap pola-pola relasi antar sampel didalam dataset sehingga terlalu sensitif terhadap varians dan kesulitan dalam mengeneralisasi data. \n",
        "- Cara lainnya yang juga dapat digunakan yaitu menambahkan jumlah data (rows)/fitur baru yang sesuai dengan konteks dataset yang digunakan. \n",
        ">\n",
        ">Implementasi Model:\n",
        "- Model ini dapat digunakan sebagai **support sistem** saja, **bukan menggantikan** peran psikolog secara umum untuk mendiagnosa dan menvalidasi seseorang sedang mengalami masalah dengan kesehatan mental atau tidak. \n",
        "- Model hanya dapat digunakan secara **double checker**. prediksi model hanya **mencerminkan** kondisi masalah kesehatan mental berdasarkan **input** dari mahasiswa. selanjutnya dilakukan validasi kondisi masalah kesehatan mental yang telah diprediksi oleh model oleh para ahli kejiwaan seperti psikolog/psikiater dalam sesi konseling. \n",
        "- Model disini berperan untuk **mempercepat** proses konseling mahasiswa yang mengalami masalah dengan kesehatan mental agar segera dapat ditangani oleh ahli. dari sana, ahli dapat dengan cepat memberikan penanganan sesuai dengan kondisi kesehatan mental mahasiswa dari hasil prediksi dan divalidasi setelah proses konseling agar mengetahui kondisi kesehatan mental yang sebenarnya dialami oleh mahasiswa.\n",
        "\n",
        "Rekomendasi:\n",
        "- Model dapat dikembangkan dengan menambahkan/menggunakan dataset yang lebih kompleks fitur dan besar jumlahnya, sehingga model dapat lebih beradapatasi dengan kompleksitas untuk memprediksi label/target secara lebih expert lagi.\n"
      ],
      "metadata": {
        "id": "VivbQUfhIKzk"
      }
    }
  ]
}